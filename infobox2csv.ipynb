{
 "cells": [
  {
   "cell_type": "markdown",
   "metadata": {},
   "source": [
    "# Extract data from Wikipedia Infobox Templates into csv file\n",
    "## Overview\n",
    "* list_template_usage: takes Site object and Template name and returns a Generator\n",
    "* extract_template_data: takes a Generator, a Template name, a Field name and returns a List"
   ]
  },
  {
   "cell_type": "code",
   "execution_count": 1,
   "metadata": {},
   "outputs": [],
   "source": [
    "import pywikibot\n",
    "import re\n",
    "\n",
    "site = pywikibot.Site(\"en\", 'wikipedia')"
   ]
  },
  {
   "cell_type": "code",
   "execution_count": 2,
   "metadata": {},
   "outputs": [],
   "source": [
    "def template_name_replace_underscores(template_name):\n",
    "    return template_name.replace('_', ' ')"
   ]
  },
  {
   "cell_type": "code",
   "execution_count": 3,
   "metadata": {},
   "outputs": [],
   "source": [
    "from pywikibot import pagegenerators as pg\n",
    "\n",
    "def list_template_usage(site_obj, template_name):\n",
    "    \"\"\"\n",
    "    Takes Site object and template name and returns a generator.\n",
    "\n",
    "    The function expects a Site object (pywikibot.Site()) and\n",
    "    a template name (String). It creates a list of all\n",
    "    pages using that template and returns them as a generator.\n",
    "    The generator will load 50 pages at a time for iteration.\n",
    "    \"\"\"\n",
    "    template_name = template_name_replace_underscores(template_name)\n",
    "    name = \"{}:{}\".format(site_obj.namespace(10), template_name)\n",
    "    tmpl_page = pywikibot.Page(site_obj, name)\n",
    "    ref_gen = tmpl_page.getReferences(follow_redirects=False)\n",
    "    filter_gen = pg.NamespaceFilterPageGenerator(ref_gen, namespaces=[0])\n",
    "    generator = site_obj.preloadpages(filter_gen, pageprops=True)\n",
    "    return generator"
   ]
  },
  {
   "cell_type": "code",
   "execution_count": 4,
   "metadata": {},
   "outputs": [
    {
     "name": "stdout",
     "output_type": "stream",
     "text": [
      "('9.15', 'm')\n",
      "('36', 'ft')\n",
      "('5.79', 'm')\n",
      "('4915', 'mm')\n",
      "('60', 'ft')\n",
      "('LOA is several meters', '')\n",
      "('58', 'ft')\n",
      "('50', 'ft')\n",
      "('', 'Q709233')\n",
      "('', 'Q709233')\n",
      "('225', 'lb')\n",
      "('180', 'kg')\n"
     ]
    }
   ],
   "source": [
    "def convert_field(field):\n",
    "    #convert template in feet\n",
    "    match = re.search(r\"{{(c|C)onvert\\|\\d+\\.?\\d*\\|(ft|feet)(\\||})\", field)\n",
    "    if match:\n",
    "        ft = re.search(r\"\\d+\\.?\\d*\", match[0])[0]\n",
    "        return(ft,'ft')\n",
    "    #convert template in metre\n",
    "    match = re.search(r\"{{(c|C)onvert\\|\\d+\\.?\\d*\\|m(\\||})\", field)\n",
    "    if match:\n",
    "        metre = re.search(r\"\\d+\\.?\\d*\", match[0])[0]\n",
    "        return(metre,'m')\n",
    "    #convert template in mm\n",
    "    match = re.search(r\"{{(c|C)onvert\\|\\d+\\.?\\d*\\|mm(\\||})\", field)\n",
    "    if match:\n",
    "        mm = re.search(r\"\\d+\\.?\\d*\", match[0])[0]\n",
    "        return(mm,'mm')\n",
    "    #convert template in kg\n",
    "    match = re.search(r\"{{(c|C)onvert\\|\\d+\\.?\\d*\\|kg(\\||})\", field)\n",
    "    if match:\n",
    "        kg = re.search(r\"\\d+\\.?\\d*\", match[0])[0]\n",
    "        return(kg,'kg')\n",
    "    #convert template in lb\n",
    "    match = re.search(r\"{{(c|C)onvert\\|\\d+\\.?\\d*\\|lb(\\||})\", field)\n",
    "    if match:\n",
    "        lb = re.search(r\"\\d+\\.?\\d*\", match[0])[0]\n",
    "        return(lb,'lb')\n",
    "    #convert template in sqft\n",
    "    match = re.search(r\"{{(c|C)onvert\\|\\d+\\.?\\d*\\|sqft(\\||})\", field)\n",
    "    if match:\n",
    "        sqft = re.search(r\"\\d+\\.?\\d*\", match[0])[0]\n",
    "        return(sqft,'sqft')    \n",
    "    #convert template in m2\n",
    "    match = re.search(r\"{{(c|C)onvert\\|\\d+\\.?\\d*\\|m2(\\||})\", field)\n",
    "    if match:\n",
    "        m2 = re.search(r\"\\d+\\.?\\d*\", match[0])[0]\n",
    "        return(m2,'m2')  \n",
    "    #field in metre\n",
    "    match = re.search(r\"\\d+\\.?\\d*m|\\d+\\.?\\d*\\sm\", field)\n",
    "    if match:\n",
    "        metre = re.search(r\"\\d+\\.?\\d*\", match[0])[0]\n",
    "        return(metre,'m')\n",
    "    #field in ft\n",
    "    match = re.search(r\"\\d+\\.?\\d*ft|\\d+\\.?\\d*\\sft\", field)\n",
    "    if match:\n",
    "        ft = re.search(r\"\\d+\\.?\\d*\", match[0])[0]\n",
    "        return(ft,'ft')\n",
    "    #field wikipedia entry -> wikidata qid\n",
    "    match = re.search(r\"(\\[\\[.*\\||\\[\\[.*\\]\\])\", field)\n",
    "    if match:\n",
    "        article = match[0].replace(\"[[\",\"\").replace(\"]]\",\"\")\n",
    "        page = pywikibot.Page(site, article)\n",
    "        qid = pywikibot.ItemPage.fromPage(page).id\n",
    "        return(\"\",qid)\n",
    "    else:\n",
    "        return(field,\"\")\n",
    "\n",
    "\n",
    "print(convert_field(\"{{convert|9.15|m|abbr=on}}\"))\n",
    "print(convert_field(\"{{Convert|36|ft|m|abbr=on}}\"))\n",
    "print(convert_field(\"5.79m\"))\n",
    "print(convert_field(\"{{convert|4915|mm|abbr=on}}\"))\n",
    "print(convert_field(\"60ft\"))\n",
    "print(convert_field(\"LOA is several meters\"))\n",
    "print(convert_field(\"{{convert|58|ft}}\"))\n",
    "print(convert_field(\"{{convert|50|feet|abbr=on}}\"))\n",
    "print(convert_field(\"[[Bruce Farr]]\"))\n",
    "print(convert_field(\"[[Bruce Farr|BF]]\"))\n",
    "print(convert_field(\"{{convert|225|lb|kg|0|abbr=on}}\"))\n",
    "print(convert_field(\"{{convert|180|kg|lb|abbr=on}}\"))\n"
   ]
  },
  {
   "cell_type": "code",
   "execution_count": 5,
   "metadata": {},
   "outputs": [],
   "source": [
    "def extract_template_data(generator, template_name, field_name):\n",
    "    \"\"\"\n",
    "    Takes a Generator, a Template name, a Field name and returns a List\n",
    "\n",
    "    The function can also take a header (list of strings) that will be\n",
    "    the headers of the table (Needs to be the same dimension as the table).\n",
    "    The first column needs to be a link to property (It will be made into\n",
    "    a link. In this example the second column is a list of links to Q-items.\n",
    "    \"\"\"\n",
    "    template_name = template_name_replace_underscores(template_name)\n",
    "    template_data = []\n",
    "    header = [\"qid\", \"url\", field_name, \"unit\"]\n",
    "    template_data.append(header)\n",
    " \n",
    "    for page in generator:\n",
    "        try:\n",
    "            qid = pywikibot.ItemPage.fromPage(page).id\n",
    "        except:\n",
    "            print('no qid')\n",
    "            qid = 'no qid'\n",
    "        page_url = page.full_url()\n",
    "        tmpl_list = page.raw_extracted_templates\n",
    "        for tmpl in tmpl_list:\n",
    "            if template_name in tmpl:\n",
    "                try:\n",
    "                    dico=tmpl[1]\n",
    "                    (field,unit)=convert_field(dico[field_name])\n",
    "                    print(\"qid: %s, url: %s | %s: %s %s\" % (qid, page_url, field_name, field, unit))\n",
    "                    template_data.append([qid, page_url, field, unit])\n",
    "                except:\n",
    "                    print('no such field')\n",
    "                    \n",
    "    return template_data"
   ]
  },
  {
   "cell_type": "code",
   "execution_count": 6,
   "metadata": {},
   "outputs": [],
   "source": [
    "import csv\n",
    "\n",
    "def list2csv(filename, list_name):\n",
    "    \"\"\"\n",
    "    Takes a List and write a csv file\n",
    "    \"\"\"\n",
    "    with open(filename, \"w\", newline=\"\") as f:\n",
    "        writer = csv.writer(f)\n",
    "        writer.writerows(list_name)"
   ]
  },
  {
   "cell_type": "code",
   "execution_count": 7,
   "metadata": {},
   "outputs": [
    {
     "name": "stderr",
     "output_type": "stream",
     "text": [
      "Retrieving 50 pages from wikipedia:en.\n"
     ]
    },
    {
     "name": "stdout",
     "output_type": "stream",
     "text": [
      "qid: Q442120, url: https://en.wikipedia.org/wiki/Knarr_%28keelboat%29 | ballast: 2822 lb\n",
      "no such field\n",
      "no such field\n",
      "no such field\n",
      "no such field\n",
      "no such field\n",
      "no such field\n",
      "no such field\n",
      "qid: Q5463514, url: https://en.wikipedia.org/wiki/Flying_Scot_%28dinghy%29 | ballast:  \n",
      "qid: Q970466, url: https://en.wikipedia.org/wiki/Nordic_Folkboat | ballast: 2205 lb\n",
      "qid: Q930962, url: https://en.wikipedia.org/wiki/Etchells | ballast: 2175 lb\n",
      "no such field\n",
      "no such field\n",
      "no such field\n",
      "no such field\n",
      "no such field\n",
      "qid: Q3183125, url: https://en.wikipedia.org/wiki/Jolie_Brise | ballast:  \n",
      "qid: Q1684207, url: https://en.wikipedia.org/wiki/Javelin_dinghy | ballast: 49 lb\n",
      "qid: Q594817, url: https://en.wikipedia.org/wiki/Yngling_%28keelboat%29 | ballast: 683 lb\n",
      "no such field\n",
      "qid: Q2277217, url: https://en.wikipedia.org/wiki/Shark_24 | ballast: 675 lb\n",
      "qid: Q7786478, url: https://en.wikipedia.org/wiki/Thistle_%28dinghy%29 | ballast:  \n",
      "qid: Q1752674, url: https://en.wikipedia.org/wiki/Albin_Vega | ballast: 2017 lb\n",
      "no such field\n",
      "no such field\n",
      "no such field\n",
      "no such field\n",
      "no such field\n",
      "no such field\n",
      "qid: Q1056136, url: https://en.wikipedia.org/wiki/Lightning_%28dinghy%29 | ballast:  \n",
      "no such field\n",
      "qid: Q1128078, url: https://en.wikipedia.org/wiki/J%2F22 | ballast: 700 lb\n",
      "no such field\n",
      "no such field\n",
      "qid: Q5051253, url: https://en.wikipedia.org/wiki/Catalina_30 | ballast: 4250 lb\n",
      "no such field\n",
      "qid: Q4929285, url: https://en.wikipedia.org/wiki/Blue_Jay_%28dinghy%29 | ballast:  \n"
     ]
    },
    {
     "name": "stderr",
     "output_type": "stream",
     "text": [
      "Retrieving 50 pages from wikipedia:en.\n"
     ]
    },
    {
     "name": "stdout",
     "output_type": "stream",
     "text": [
      "no such field\n",
      "no such field\n",
      "no such field\n",
      "qid: Q1639639, url: https://en.wikipedia.org/wiki/SB20 | ballast: 327 kg\n",
      "qid: Q4982397, url: https://en.wikipedia.org/wiki/Buccaneer_18 | ballast:  \n",
      "no such field\n",
      "qid: Q1418841, url: https://en.wikipedia.org/wiki/Fireball_%28dinghy%29 | ballast:  \n",
      "no such field\n",
      "qid: Q5151583, url: https://en.wikipedia.org/wiki/Comet_%28dinghy%29 | ballast:  \n",
      "qid: Q7414553, url: https://en.wikipedia.org/wiki/San_Juan_24 | ballast: 1650 lb\n",
      "no such field\n",
      "qid: Q7018767, url: https://en.wikipedia.org/wiki/Newport_30 | ballast: 2500 lb\n",
      "qid: Q7496198, url: https://en.wikipedia.org/wiki/Shields_%28keelboat%29 | ballast: 3080 lb\n",
      "qid: Q6188785, url: https://en.wikipedia.org/wiki/Jet_14 | ballast:  \n",
      "no such field\n",
      "no such field\n",
      "qid: Q1253532, url: https://en.wikipedia.org/wiki/Formula_18 | ballast:  \n",
      "no such field\n",
      "qid: Q7440009, url: https://en.wikipedia.org/wiki/Sea_Sprite_34 | ballast: 5000 lb\n",
      "qid: Q14524820, url: https://en.wikipedia.org/wiki/IMOCA_60 | ballast:  \n",
      "qid: Q4880204, url: https://en.wikipedia.org/wiki/Beetle_Cat | ballast:  \n",
      "qid: Q7158362, url: https://en.wikipedia.org/wiki/Pearson_Triton | ballast: 3019 lb\n",
      "qid: Q1127941, url: https://en.wikipedia.org/wiki/Sonar_%28keelboat%29 | ballast: 930 lb\n",
      "no such field\n",
      "qid: Q6414897, url: https://en.wikipedia.org/wiki/Kirby_23 | ballast: 900 lb\n",
      "qid: Q7914818, url: https://en.wikipedia.org/wiki/Vanguard_15 | ballast:  \n",
      "qid: Q1431676, url: https://en.wikipedia.org/wiki/Soling | ballast: 570 kg\n",
      "no such field\n",
      "qid: Q4646941, url: https://en.wikipedia.org/wiki/A_Scow | ballast:  \n"
     ]
    },
    {
     "name": "stderr",
     "output_type": "stream",
     "text": [
      "Retrieving 50 pages from wikipedia:en.\n"
     ]
    },
    {
     "name": "stdout",
     "output_type": "stream",
     "text": [
      "qid: Q2975943, url: https://en.wikipedia.org/wiki/Mini_Transat_6.50 | ballast:  \n",
      "qid: Q6715083, url: https://en.wikipedia.org/wiki/MC_Scow | ballast:  \n",
      "qid: Q5005914, url: https://en.wikipedia.org/wiki/C_Scow | ballast:  \n",
      "qid: Q6720526, url: https://en.wikipedia.org/wiki/M_Scow | ballast:  \n",
      "qid: Q5321452, url: https://en.wikipedia.org/wiki/E_Scow | ballast:  \n",
      "no such field\n",
      "no such field\n",
      "qid: Q2165098, url: https://en.wikipedia.org/wiki/Tempest_%28keelboat%29 | ballast: 440 lb\n",
      "no such field\n",
      "qid: Q225126, url: https://en.wikipedia.org/wiki/Flying_Fifteen | ballast: 372 lb\n",
      "qid: Q7686817, url: https://en.wikipedia.org/wiki/Tartan_Ten | ballast: 3340 lb\n",
      "qid: Q8046193, url: https://en.wikipedia.org/wiki/Y_Flyer | ballast:  \n",
      "no such field\n",
      "qid: Q7414554, url: https://en.wikipedia.org/wiki/San_Juan_21 | ballast: 400 lb\n",
      "no such field\n",
      "no such field\n",
      "qid: Q5944238, url: https://en.wikipedia.org/wiki/Hunter_140 | ballast: none \n",
      "no such field\n",
      "qid: Q5944245, url: https://en.wikipedia.org/wiki/Hunter_23 | ballast: 800 lb\n",
      "qid: Q6048005, url: https://en.wikipedia.org/wiki/International_110 | ballast: 300 lb\n",
      "qid: Q16964221, url: https://en.wikipedia.org/wiki/Newport_16 | ballast: 250 lb\n",
      "qid: Q5005887, url: https://en.wikipedia.org/wiki/C-Lark | ballast: none \n",
      "qid: Q5421654, url: https://en.wikipedia.org/wiki/Express_27 | ballast: 1100 lb\n",
      "qid: Q6109283, url: https://en.wikipedia.org/wiki/JY15 | ballast: none \n",
      "qid: Q7239514, url: https://en.wikipedia.org/wiki/Precision_15 | ballast:  \n",
      "qid: Q6543722, url: https://en.wikipedia.org/wiki/Lido_14 | ballast:  \n",
      "qid: Q7321000, url: https://en.wikipedia.org/wiki/Rhodes_19 | ballast: 428 lb\n"
     ]
    },
    {
     "name": "stderr",
     "output_type": "stream",
     "text": [
      "Retrieving 50 pages from wikipedia:en.\n"
     ]
    },
    {
     "name": "stdout",
     "output_type": "stream",
     "text": [
      "qid: Q4673736, url: https://en.wikipedia.org/wiki/Achilles_24 | ballast: 1314 lb\n",
      "qid: Q7292753, url: https://en.wikipedia.org/wiki/Ranger_29 | ballast: 3130 lb\n",
      "qid: Q3471881, url: https://en.wikipedia.org/wiki/Sandpiper_565 | ballast: 300 lb\n",
      "qid: Q5051252, url: https://en.wikipedia.org/wiki/Catalina_22 | ballast: 800 lb\n",
      "no such field\n",
      "no such field\n",
      "qid: Q7420036, url: https://en.wikipedia.org/wiki/Santana_22 | ballast: 1230 lb\n",
      "qid: Q5051254, url: https://en.wikipedia.org/wiki/Catalina_38 | ballast: 6850 lb\n",
      "qid: Q85766930, url: https://en.wikipedia.org/wiki/Hobie_33 | ballast: 1900 lb\n",
      "qid: Q16983431, url: https://en.wikipedia.org/wiki/Pearson_Ensign | ballast: 1200 lb\n",
      "no such field\n",
      "qid: Q2856497, url: https://en.wikipedia.org/wiki/Halcyon_23 | ballast: {{convert|1155|lbs|kg}} \n",
      "qid: Q8024278, url: https://en.wikipedia.org/wiki/Windmill_%28sailing_dinghy%29 | ballast:  \n",
      "qid: Q8042778, url: https://en.wikipedia.org/wiki/X_Boat | ballast:  \n",
      "qid: Q4857124, url: https://en.wikipedia.org/wiki/Banshee_%28dinghy%29 | ballast:  \n",
      "qid: Q2975700, url: https://en.wikipedia.org/wiki/Class40 | ballast:  \n",
      "qid: Q7180541, url: https://en.wikipedia.org/wiki/Phantom_%28dinghy%29 | ballast:  \n"
     ]
    },
    {
     "name": "stderr",
     "output_type": "stream",
     "text": [
      "Retrieving 50 pages from wikipedia:en.\n"
     ]
    },
    {
     "name": "stdout",
     "output_type": "stream",
     "text": [
      "no such field\n",
      "qid: Q106153513, url: https://en.wikipedia.org/wiki/Ericson_29 | ballast: 3900 lb\n",
      "qid: Q5150437, url: https://en.wikipedia.org/wiki/Com-Pac_16 | ballast: 450 lb\n",
      "no such field\n",
      "qid: Q85765857, url: https://en.wikipedia.org/wiki/Hartley_TS16 | ballast:  \n",
      "qid: Q16964788, url: https://en.wikipedia.org/wiki/Pearson_Vanguard | ballast: 4250 lb\n",
      "qid: Q1806539, url: https://en.wikipedia.org/wiki/Laser_Vago | ballast:  \n",
      "no such field\n",
      "qid: Q7420035, url: https://en.wikipedia.org/wiki/Santana_20 | ballast: 550 lb\n",
      "no such field\n",
      "no such field\n",
      "no such field\n",
      "no such field\n",
      "qid: Q5421656, url: https://en.wikipedia.org/wiki/Express_37 | ballast: 4600 lb\n",
      "qid: Q5289608, url: https://en.wikipedia.org/wiki/Dolphin_24 | ballast: 1650 lb\n"
     ]
    },
    {
     "name": "stderr",
     "output_type": "stream",
     "text": [
      "Retrieving 50 pages from wikipedia:en.\n"
     ]
    },
    {
     "name": "stdout",
     "output_type": "stream",
     "text": [
      "no such field\n",
      "no such field\n",
      "no such field\n",
      "qid: Q6418114, url: https://en.wikipedia.org/wiki/Kite_%28sailboat%29 | ballast:  \n",
      "no such field\n",
      "no such field\n",
      "no such field\n",
      "qid: Q4940483, url: https://en.wikipedia.org/wiki/Bombardier_Invitation | ballast:  \n",
      "no such field\n",
      "no such field\n",
      "no such field\n",
      "qid: Q5172154, url: https://en.wikipedia.org/wiki/Coronado_15 | ballast:  \n",
      "no such field\n",
      "no such field\n",
      "no such field\n",
      "no such field\n",
      "no such field\n",
      "qid: Q683513, url: https://en.wikipedia.org/wiki/Mistral_One_Design | ballast:  \n",
      "qid: Q239383, url: https://en.wikipedia.org/wiki/Windglider | ballast:  \n",
      "qid: Q4405110, url: https://en.wikipedia.org/wiki/Division_II_%28windsurf_board%29 | ballast:  \n",
      "qid: Q2376809, url: https://en.wikipedia.org/wiki/Lechner_A-390 | ballast:  \n",
      "no such field\n",
      "qid: Q2530562, url: https://en.wikipedia.org/wiki/RS%3AX | ballast:  \n",
      "qid: Q5421655, url: https://en.wikipedia.org/wiki/Express_34 | ballast: 3700 lb\n",
      "qid: Q6007963, url: https://en.wikipedia.org/wiki/Impulse_%28dinghy%29 | ballast:  \n",
      "no such field\n",
      "qid: Q6046845, url: https://en.wikipedia.org/wiki/Interlake_%28dinghy%29 | ballast:  \n"
     ]
    },
    {
     "name": "stderr",
     "output_type": "stream",
     "text": [
      "Retrieving 50 pages from wikipedia:en.\n"
     ]
    },
    {
     "name": "stdout",
     "output_type": "stream",
     "text": [
      "qid: Q3978582, url: https://en.wikipedia.org/wiki/Swan_45 | ballast: 3910 kg \n",
      "no such field\n",
      "qid: Q8041416, url: https://en.wikipedia.org/wiki/X-41_%28yacht%29 | ballast: 2730 kg\n",
      "no such field\n",
      "no such field\n",
      "no such field\n",
      "qid: Q11118594, url: https://en.wikipedia.org/wiki/Ultimate_20 | ballast: 450 lb\n",
      "no such field\n",
      "no such field\n",
      "qid: Q3334777, url: https://en.wikipedia.org/wiki/Nacra_17 | ballast:  \n",
      "qid: Q6957337, url: https://en.wikipedia.org/wiki/Nacra_F18_Infusion | ballast:  \n",
      "no such field\n",
      "no such field\n",
      "no such field\n",
      "no such field\n",
      "qid: Q15616199, url: https://en.wikipedia.org/wiki/Swan_65 | ballast: 10400 kg\n"
     ]
    },
    {
     "name": "stderr",
     "output_type": "stream",
     "text": [
      "Retrieving 50 pages from wikipedia:en.\n"
     ]
    },
    {
     "name": "stdout",
     "output_type": "stream",
     "text": [
      "qid: Q20642510, url: https://en.wikipedia.org/wiki/RS_Aero | ballast: none \n",
      "qid: Q18125152, url: https://en.wikipedia.org/wiki/AC50 | ballast: forbidden (solid or liquid) \n",
      "qid: Q19577060, url: https://en.wikipedia.org/wiki/Farrier_F-22 | ballast: none \n",
      "qid: Q20642622, url: https://en.wikipedia.org/wiki/West_Wight_Potter_15 | ballast: 165 lb\n",
      "no such field\n",
      "no such field\n"
     ]
    },
    {
     "name": "stderr",
     "output_type": "stream",
     "text": [
      "Retrieving 50 pages from wikipedia:en.\n"
     ]
    },
    {
     "name": "stdout",
     "output_type": "stream",
     "text": [
      "no such field\n",
      "no such field\n",
      "no such field\n",
      "no such field\n",
      "qid: Q10599229, url: https://en.wikipedia.org/wiki/Neptunkryssare | ballast: 540 kg\n",
      "no such field\n",
      "no such field\n",
      "no such field\n",
      "no such field\n",
      "no such field\n",
      "no such field\n",
      "qid: Q795492, url: https://en.wikipedia.org/wiki/BB_10_%28keelboat%29 | ballast: 2700 lb\n",
      "no such field\n",
      "no such field\n",
      "no such field\n",
      "qid: Q22570313, url: https://en.wikipedia.org/wiki/J%2F70 | ballast: 628 lb\n",
      "no such field\n",
      "qid: Q10404349, url: https://en.wikipedia.org/wiki/Albin_Express | ballast: 1764 lb\n",
      "no such field\n",
      "no such field\n",
      "no such field\n",
      "no such field\n",
      "qid: Q22570351, url: https://en.wikipedia.org/wiki/Swan_60_OD | ballast: 7700 kg\n",
      "no such field\n",
      "no such field\n",
      "no such field\n",
      "no such field\n",
      "no such field\n",
      "no such field\n",
      "qid: Q3272530, url: https://en.wikipedia.org/wiki/M34_%28keelboat%29 | ballast: 2315 lb\n",
      "no such field\n",
      "no such field\n",
      "no such field\n",
      "qid: Q24964515, url: https://en.wikipedia.org/wiki/Swan_37 | ballast: 7300 lb\n",
      "qid: Q24883742, url: https://en.wikipedia.org/wiki/US_Yachts_US_22 | ballast: 950 lb\n",
      "no such field\n",
      "no such field\n",
      "no such field\n",
      "qid: Q25349769, url: https://en.wikipedia.org/wiki/Tanzer_22 | ballast: 1250 lb\n",
      "no such field\n",
      "no such field\n",
      "no such field\n",
      "no such field\n",
      "no such field\n",
      "no such field\n",
      "no such field\n"
     ]
    },
    {
     "name": "stderr",
     "output_type": "stream",
     "text": [
      "Retrieving 50 pages from wikipedia:en.\n"
     ]
    },
    {
     "name": "stdout",
     "output_type": "stream",
     "text": [
      "no such field\n",
      "no such field\n",
      "no such field\n",
      "no such field\n",
      "no such field\n",
      "no such field\n",
      "qid: Q28162923, url: https://en.wikipedia.org/wiki/Swan_36_Frers | ballast: 2540 kg\n",
      "qid: Q28162924, url: https://en.wikipedia.org/wiki/Swan_44_Frers | ballast: 3500 kg\n",
      "qid: Q28233870, url: https://en.wikipedia.org/wiki/Swan_40 | ballast: 3600 kg\n",
      "qid: Q28233874, url: https://en.wikipedia.org/wiki/Swan_38_%28yacht%29 | ballast: 3200 kg\n",
      "qid: Q28162951, url: https://en.wikipedia.org/wiki/ClubSwan_42 | ballast: 3135 kg\n",
      "qid: Q28233879, url: https://en.wikipedia.org/wiki/Swan_43 | ballast: 4700 kg\n",
      "qid: Q28182562, url: https://en.wikipedia.org/wiki/Swan_391 | ballast: 3084 kg\n",
      "qid: Q28233883, url: https://en.wikipedia.org/wiki/Swan_55 | ballast: 7700 kg\n",
      "qid: Q28233887, url: https://en.wikipedia.org/wiki/Swan_411 | ballast: 5200 kg\n",
      "qid: Q28162925, url: https://en.wikipedia.org/wiki/Swan_46_Mk_III | ballast: 5500 kg\n",
      "qid: Q28162926, url: https://en.wikipedia.org/wiki/Swan_53_Mk_II | ballast: 8200 kg\n",
      "qid: Q28162927, url: https://en.wikipedia.org/wiki/Swan_56 | ballast: 6230 kg\n",
      "qid: Q28233891, url: https://en.wikipedia.org/wiki/Swan_431 | ballast: 5400 kg\n",
      "qid: Q28182564, url: https://en.wikipedia.org/wiki/Swan_371 | ballast: 2586 kg\n",
      "qid: Q28182569, url: https://en.wikipedia.org/wiki/Swan_441 | ballast: 4990 kg\n",
      "qid: Q28162928, url: https://en.wikipedia.org/wiki/Swan_51 | ballast: 7484 kg\n",
      "qid: Q28162918, url: https://en.wikipedia.org/wiki/Swan_48_Frers | ballast: 5500 kg\n",
      "qid: Q28162919, url: https://en.wikipedia.org/wiki/Swan_80 | ballast: - \n",
      "qid: Q28233899, url: https://en.wikipedia.org/wiki/Swan_82 | ballast: 14300 kg\n",
      "qid: Q28233902, url: https://en.wikipedia.org/wiki/Swan_41 | ballast: 4400 kg\n",
      "qid: Q28233906, url: https://en.wikipedia.org/wiki/Swan_76 | ballast: 10900 kg\n",
      "qid: Q1498058, url: https://en.wikipedia.org/wiki/Swan_44 | ballast: 4400 kg\n",
      "qid: Q28162920, url: https://en.wikipedia.org/wiki/Swan_60 | ballast: 8750 kg\n",
      "qid: Q28162929, url: https://en.wikipedia.org/wiki/Swan_601 | ballast: 8500 kg\n",
      "qid: Q28233910, url: https://en.wikipedia.org/wiki/Swan_68 | ballast: 16000 kg\n",
      "qid: Q28162921, url: https://en.wikipedia.org/wiki/Swan_62 | ballast: 11200 kg\n",
      "qid: Q28233913, url: https://en.wikipedia.org/wiki/Swan_57 | ballast: 8600 kg\n",
      "no such field\n",
      "no such field\n",
      "qid: Q28233917, url: https://en.wikipedia.org/wiki/Swan_47 | ballast: 7000 kg\n",
      "no such field\n",
      "qid: Q28182598, url: https://en.wikipedia.org/wiki/Swan_39 | ballast: 3583 kg\n",
      "qid: Q28162922, url: https://en.wikipedia.org/wiki/Swan_40_Frers | ballast: 3171 kg\n",
      "no such field\n",
      "qid: Q28233925, url: https://en.wikipedia.org/wiki/ClubSwan_50 | ballast:  \n",
      "qid: Q28182626, url: https://en.wikipedia.org/wiki/Swan_42 | ballast: 4200 kg\n",
      "qid: Q28182629, url: https://en.wikipedia.org/wiki/Swan_43_Holland | ballast: 4100 kg\n",
      "qid: Q28162930, url: https://en.wikipedia.org/wiki/Swan_46_Mk_I | ballast: 5200 kg\n",
      "qid: Q28162931, url: https://en.wikipedia.org/wiki/Swan_46_Mk_II | ballast: 5200 kg\n",
      "qid: Q28162932, url: https://en.wikipedia.org/wiki/Swan_53_Mk_I | ballast: 8400 kg\n",
      "qid: Q27962179, url: https://en.wikipedia.org/wiki/Swan_86 | ballast: 2000 kg\n",
      "qid: Q28233927, url: https://en.wikipedia.org/wiki/Swan_59 | ballast: 9200 kg\n",
      "qid: Q28162933, url: https://en.wikipedia.org/wiki/Swan_57_Mk_II | ballast: 9230 kg\n",
      "qid: Q28162935, url: https://en.wikipedia.org/wiki/Swan_55_Frers | ballast: 9030 kg\n"
     ]
    },
    {
     "name": "stderr",
     "output_type": "stream",
     "text": [
      "Retrieving 50 pages from wikipedia:en.\n"
     ]
    },
    {
     "name": "stdout",
     "output_type": "stream",
     "text": [
      "qid: Q28162936, url: https://en.wikipedia.org/wiki/Swan_61 | ballast: 9200 kg\n",
      "qid: Q28162937, url: https://en.wikipedia.org/wiki/Swan_651 | ballast: 14400 kg\n",
      "qid: Q28162938, url: https://en.wikipedia.org/wiki/Swan_112_RS | ballast: 28000 kg\n",
      "qid: Q28162939, url: https://en.wikipedia.org/wiki/Swan_66 | ballast: 9400 kg\n",
      "qid: Q28162941, url: https://en.wikipedia.org/wiki/Swan_100 | ballast: 29000 kg\n",
      "qid: Q28182636, url: https://en.wikipedia.org/wiki/Nautor_105 | ballast:  \n",
      "qid: Q28233931, url: https://en.wikipedia.org/wiki/Nautor_43 | ballast: 4100 kg\n",
      "qid: Q28162942, url: https://en.wikipedia.org/wiki/Swan_54 | ballast: 8200 kg\n",
      "qid: Q28162943, url: https://en.wikipedia.org/wiki/Swan_131 | ballast: 36000 kg\n",
      "qid: Q28162945, url: https://en.wikipedia.org/wiki/Swan_115 | ballast: 32000 kg\n",
      "qid: Q28162946, url: https://en.wikipedia.org/wiki/Swan_80_Mk_II | ballast:  \n",
      "qid: Q28162947, url: https://en.wikipedia.org/wiki/Swan_77 | ballast: 18000 kg \n",
      "no such field\n",
      "no such field\n",
      "qid: Q28446349, url: https://en.wikipedia.org/wiki/Dione_98 | ballast:  \n",
      "qid: Q28446351, url: https://en.wikipedia.org/wiki/Freedom_28 | ballast:  \n",
      "qid: Q26869445, url: https://en.wikipedia.org/wiki/Freedom_28_Cat_Ketch | ballast:  \n",
      "qid: Q28446358, url: https://en.wikipedia.org/wiki/Freedom_30 | ballast:  \n",
      "qid: Q28446362, url: https://en.wikipedia.org/wiki/Freedom_36 | ballast:  \n",
      "qid: Q28446387, url: https://en.wikipedia.org/wiki/Freedom_36_Cat_Ketch | ballast:  \n",
      "qid: Q28446391, url: https://en.wikipedia.org/wiki/Freedom_38 | ballast: 5530 lb\n",
      "qid: Q28446400, url: https://en.wikipedia.org/wiki/Freedom_42 | ballast:  \n",
      "qid: Q28446479, url: https://en.wikipedia.org/wiki/Freedom_45 | ballast: 9500 lb\n",
      "qid: Q28446483, url: https://en.wikipedia.org/wiki/Humboldt_30 | ballast: 2222 lb\n",
      "qid: Q28446533, url: https://en.wikipedia.org/wiki/Independence_20 | ballast: 900 lb\n",
      "qid: Q28446537, url: https://en.wikipedia.org/wiki/US_Yachts_US_25 | ballast: 1250 lb\n",
      "qid: Q28446635, url: https://en.wikipedia.org/wiki/Kalik_44 | ballast: 10600 lb\n",
      "qid: Q28446669, url: https://en.wikipedia.org/wiki/Laminex_Pocket_Rocket | ballast: 1100 lb\n",
      "qid: Q28446677, url: https://en.wikipedia.org/wiki/Microsail | ballast: 507 lb\n",
      "qid: Q28446860, url: https://en.wikipedia.org/wiki/Moore_30 | ballast:  \n",
      "qid: Q28180775, url: https://en.wikipedia.org/wiki/New_Zealand_45 | ballast: 10515 lb\n",
      "qid: Q28447021, url: https://en.wikipedia.org/wiki/Newport_20 | ballast: 990 lb\n",
      "qid: Q28447544, url: https://en.wikipedia.org/wiki/Newport_31 | ballast: 2600 lb\n",
      "qid: Q28447581, url: https://en.wikipedia.org/wiki/Newport_33 | ballast: 4000 lb\n",
      "qid: Q28447582, url: https://en.wikipedia.org/wiki/Ocean_40 | ballast: 9100 lb\n",
      "qid: Q28232157, url: https://en.wikipedia.org/wiki/Orion_50 | ballast: 14000 lb\n",
      "qid: Q28232162, url: https://en.wikipedia.org/wiki/Ranger_16 | ballast:  \n",
      "qid: Q28447696, url: https://en.wikipedia.org/wiki/Ranger_23 | ballast: 1500 lb\n",
      "qid: Q28447966, url: https://en.wikipedia.org/wiki/Ranger_26 | ballast: 2050 lb\n",
      "qid: Q28448012, url: https://en.wikipedia.org/wiki/Ranger_26-2 | ballast: lead \n",
      "qid: Q28448017, url: https://en.wikipedia.org/wiki/Ranger_28 | ballast: 2792 lb\n",
      "qid: Q28448096, url: https://en.wikipedia.org/wiki/Ranger_32 | ballast: 4480 lb\n",
      "qid: Q28448169, url: https://en.wikipedia.org/wiki/Ranger_33 | ballast: 4500 lb\n",
      "qid: Q28448171, url: https://en.wikipedia.org/wiki/Ranger_37 | ballast: 7300 lb\n",
      "qid: Q28448177, url: https://en.wikipedia.org/wiki/Fun_23 | ballast: 760 lb\n",
      "qid: Q28448179, url: https://en.wikipedia.org/wiki/Ranger_30 | ballast: 4300 lb\n",
      "qid: Q28448234, url: https://en.wikipedia.org/wiki/Rocket_22 | ballast: 600 lb\n",
      "qid: Q42897024, url: https://en.wikipedia.org/wiki/Santana_27 | ballast: 2300 lb\n",
      "qid: Q28448271, url: https://en.wikipedia.org/wiki/Santana_37 | ballast: 6600 lb\n",
      "qid: Q28448305, url: https://en.wikipedia.org/wiki/Santana_39 | ballast: 6600 lb\n"
     ]
    },
    {
     "name": "stderr",
     "output_type": "stream",
     "text": [
      "Retrieving 50 pages from wikipedia:en.\n"
     ]
    },
    {
     "name": "stdout",
     "output_type": "stream",
     "text": [
      "qid: Q28448309, url: https://en.wikipedia.org/wiki/Sonata_26 | ballast: 500 lb\n",
      "qid: Q28448316, url: https://en.wikipedia.org/wiki/Sonata_6.7 | ballast: 952 lb\n",
      "qid: Q28448315, url: https://en.wikipedia.org/wiki/Sonata_8 | ballast: 500 lb\n",
      "qid: Q3539702, url: https://en.wikipedia.org/wiki/Triton_25 | ballast: 1250 lb\n",
      "qid: Q28448320, url: https://en.wikipedia.org/wiki/Wilderness_38 | ballast: 4500 lb\n",
      "qid: Q28448322, url: https://en.wikipedia.org/wiki/Wilderness_40 | ballast: 3969 lb\n",
      "qid: Q30597885, url: https://en.wikipedia.org/wiki/Tally_Ho_%28yacht%29 | ballast:  \n",
      "qid: Q28448380, url: https://en.wikipedia.org/wiki/Prospect_900 | ballast: 3086 lb\n",
      "qid: Q56273948, url: https://en.wikipedia.org/wiki/Nonsuch_26 | ballast: 2750 lb\n",
      "qid: Q28448394, url: https://en.wikipedia.org/wiki/Catalina_270 | ballast: 2000 lb\n",
      "qid: Q28448411, url: https://en.wikipedia.org/wiki/Catalina_34 | ballast: 5000 lb\n",
      "qid: Q28448551, url: https://en.wikipedia.org/wiki/Catalina_309 | ballast: 4000 lb\n",
      "qid: Q28448557, url: https://en.wikipedia.org/wiki/Hunter_32_Vision | ballast: 4500 lb\n",
      "qid: Q28448555, url: https://en.wikipedia.org/wiki/Hunter_306 | ballast: 2550 lb\n",
      "qid: Q28448558, url: https://en.wikipedia.org/wiki/Hunter_356 | ballast: 4000 lb\n",
      "qid: Q28448611, url: https://en.wikipedia.org/wiki/Caper_Cat | ballast:  \n",
      "qid: Q28448700, url: https://en.wikipedia.org/wiki/Hullmaster_27 | ballast: 3000 lb\n",
      "qid: Q28448717, url: https://en.wikipedia.org/wiki/Mirage_25 | ballast: 1600 lb\n",
      "qid: Q28448839, url: https://en.wikipedia.org/wiki/B_Boats_B-32 | ballast: 1650 lb\n",
      "qid: Q28448873, url: https://en.wikipedia.org/wiki/J%2F32 | ballast: 3840 lb\n",
      "qid: Q28448974, url: https://en.wikipedia.org/wiki/Catalina_320 | ballast: 4000 lb\n",
      "qid: Q28449006, url: https://en.wikipedia.org/wiki/Catalina_27 | ballast: 2700 lb\n",
      "qid: Q28449018, url: https://en.wikipedia.org/wiki/Catalina_470 | ballast: 8800 lb\n",
      "qid: Q28449139, url: https://en.wikipedia.org/wiki/Rob_Roy_23 | ballast: 900 lb\n",
      "qid: Q28449204, url: https://en.wikipedia.org/wiki/O%27Day_25 | ballast: 1825 lb\n",
      "qid: Q28449416, url: https://en.wikipedia.org/wiki/MacGregor_26 | ballast: 1500 lb\n",
      "qid: Q28449791, url: https://en.wikipedia.org/wiki/C%26C_35 | ballast: 5000 lb\n",
      "qid: Q28449847, url: https://en.wikipedia.org/wiki/C%26C_115 | ballast: 4200 lb\n",
      "qid: Q28449930, url: https://en.wikipedia.org/wiki/C%26C_27 | ballast: 2116 lb\n",
      "qid: Q28450349, url: https://en.wikipedia.org/wiki/C%26C_29 | ballast: 2700 lb\n",
      "qid: Q28379721, url: https://en.wikipedia.org/wiki/C%26C_30 | ballast: 3450 lb\n",
      "qid: Q42897026, url: https://en.wikipedia.org/wiki/CS_22 | ballast: 1100 lb\n",
      "qid: Q30589689, url: https://en.wikipedia.org/wiki/CS_27 | ballast: 2400 lb\n",
      "qid: Q30590492, url: https://en.wikipedia.org/wiki/CS_30 | ballast: 3440 lb\n",
      "qid: Q30590653, url: https://en.wikipedia.org/wiki/CS_33 | ballast: 4250 lb\n",
      "qid: Q30591605, url: https://en.wikipedia.org/wiki/Beneteau_First_285 | ballast: 2115 lb\n",
      "qid: Q30593047, url: https://en.wikipedia.org/wiki/Mirage_30 | ballast: 2800 lb\n",
      "qid: Q30593637, url: https://en.wikipedia.org/wiki/Kirby_25 | ballast: 1150 lb\n",
      "qid: Q30593938, url: https://en.wikipedia.org/wiki/Sonic_23 | ballast: 1500 lb\n",
      "qid: Q30593943, url: https://en.wikipedia.org/wiki/Abbott_33 | ballast: 3304 lb\n",
      "qid: Q30593947, url: https://en.wikipedia.org/wiki/Sirius_28 | ballast: 2600 lb\n",
      "qid: Q30594518, url: https://en.wikipedia.org/wiki/CS_36 | ballast: 6500 lb\n",
      "qid: Q30594581, url: https://en.wikipedia.org/wiki/CS_36_Merlin | ballast: 5590 lb\n",
      "qid: Q30595271, url: https://en.wikipedia.org/wiki/Caprice_15 | ballast:  \n",
      "qid: Q29934651, url: https://en.wikipedia.org/wiki/CS_395 | ballast: 5644 lb\n",
      "qid: Q30595350, url: https://en.wikipedia.org/wiki/CS_44 | ballast: 9000 lb\n",
      "qid: Q30596050, url: https://en.wikipedia.org/wiki/CS_40 | ballast: 7500 lb\n"
     ]
    },
    {
     "name": "stderr",
     "output_type": "stream",
     "text": [
      "Retrieving 50 pages from wikipedia:en.\n"
     ]
    },
    {
     "name": "stdout",
     "output_type": "stream",
     "text": [
      "qid: Q29934652, url: https://en.wikipedia.org/wiki/CS_50 | ballast: 12125 lb\n",
      "qid: Q30596114, url: https://en.wikipedia.org/wiki/CS_34 | ballast:  \n",
      "qid: Q30596138, url: https://en.wikipedia.org/wiki/MG_335 | ballast: 3800 lb\n",
      "qid: Q30632693, url: https://en.wikipedia.org/wiki/Mirage_24 | ballast: 1500 lb\n",
      "qid: Q30632698, url: https://en.wikipedia.org/wiki/Northern_1%2F4_Ton | ballast: 1450 lb\n",
      "qid: Q30632706, url: https://en.wikipedia.org/wiki/Mirage_26 | ballast: 2050 lb\n",
      "qid: Q30633284, url: https://en.wikipedia.org/wiki/Kirby_30 | ballast: 2300 lb\n",
      "qid: Q30633521, url: https://en.wikipedia.org/wiki/Mirage_33 | ballast: 3500 lb\n",
      "qid: Q30633523, url: https://en.wikipedia.org/wiki/Mirage_35 | ballast: 3500 lb\n",
      "qid: Q30634234, url: https://en.wikipedia.org/wiki/Mirage_30_SX | ballast:  \n",
      "qid: Q30635239, url: https://en.wikipedia.org/wiki/Mirage_29 | ballast: 2300 lb\n",
      "qid: Q30635377, url: https://en.wikipedia.org/wiki/Thames_Marine_Mirage_29 | ballast:  \n",
      "qid: Q30636403, url: https://en.wikipedia.org/wiki/Cal_27 | ballast: 2725 lb\n",
      "qid: Q30636615, url: https://en.wikipedia.org/wiki/Mirage_32 | ballast: 2800 lb\n",
      "qid: Q30636626, url: https://en.wikipedia.org/wiki/Mirage_275 | ballast: 2400 lb\n",
      "qid: Q30636666, url: https://en.wikipedia.org/wiki/C%26C_1%2F2_Ton | ballast:  \n",
      "qid: Q30637225, url: https://en.wikipedia.org/wiki/Redline_25 | ballast: 1915 lb\n",
      "qid: Q30637306, url: https://en.wikipedia.org/wiki/Redline_41 | ballast: 9500 lb\n",
      "qid: Q30637546, url: https://en.wikipedia.org/wiki/C%26C_101 | ballast: 3351 lb\n",
      "qid: Q30637697, url: https://en.wikipedia.org/wiki/C%26C_110 | ballast: 4200 lb\n",
      "qid: Q30638173, url: https://en.wikipedia.org/wiki/TES_28_Magnam | ballast: 1980 lb\n",
      "qid: Q30638185, url: https://en.wikipedia.org/wiki/Jou%C3%ABt_760 | ballast:  \n",
      "qid: Q30638345, url: https://en.wikipedia.org/wiki/Sanibel_18 | ballast: 450 lb\n",
      "qid: Q30638424, url: https://en.wikipedia.org/wiki/Siren_17 | ballast: 130 lb\n",
      "qid: Q30638492, url: https://en.wikipedia.org/wiki/C%26C_121 | ballast: 6000 lb\n",
      "qid: Q60740478, url: https://en.wikipedia.org/wiki/C%26C_30_Redwing | ballast: 3530 lb\n",
      "qid: Q30638733, url: https://en.wikipedia.org/wiki/C%26C_99 | ballast: 3500 lb\n",
      "qid: Q30638774, url: https://en.wikipedia.org/wiki/C%26C_131 | ballast: 6790 lb\n",
      "qid: Q30639005, url: https://en.wikipedia.org/wiki/C%26C_3%2F4_Ton | ballast: 4075 lb\n",
      "qid: Q30639254, url: https://en.wikipedia.org/wiki/C%26C_33 | ballast: 4075 lb\n",
      "qid: Q30639343, url: https://en.wikipedia.org/wiki/C%26C_24 | ballast: 1050 lb\n",
      "qid: Q30639524, url: https://en.wikipedia.org/wiki/C%26C_25 | ballast: 1900 lb\n",
      "qid: Q30639997, url: https://en.wikipedia.org/wiki/O%27Day_23 | ballast: 1200 lb\n",
      "qid: Q30640459, url: https://en.wikipedia.org/wiki/Bayfield_25 | ballast: 1300 lb\n",
      "qid: Q85749758, url: https://en.wikipedia.org/wiki/C%26C_27_Mk_V | ballast: 1715 lb\n",
      "qid: Q30641055, url: https://en.wikipedia.org/wiki/Nordica_16 | ballast: 430 lb\n",
      "qid: Q30641111, url: https://en.wikipedia.org/wiki/Halman_20 | ballast: 1000 lb\n",
      "qid: Q30641383, url: https://en.wikipedia.org/wiki/Beneteau_First_235 | ballast: 825 lb\n",
      "qid: Q30641850, url: https://en.wikipedia.org/wiki/Fantasia_27 | ballast: 1936 lb\n",
      "qid: Q30641968, url: https://en.wikipedia.org/wiki/Kelt_7.6 | ballast: 1631 lb\n",
      "qid: Q30642460, url: https://en.wikipedia.org/wiki/Nash_26 | ballast: 2100 lb\n",
      "qid: Q30642544, url: https://en.wikipedia.org/wiki/Sandstream_26 | ballast: 1800 lb\n",
      "qid: Q30642804, url: https://en.wikipedia.org/wiki/Com-Pac_19 | ballast: 800 lb\n",
      "qid: Q30643491, url: https://en.wikipedia.org/wiki/DS-22 | ballast: 890 lb\n",
      "qid: Q30643607, url: https://en.wikipedia.org/wiki/Pearson_28 | ballast: 2550 lb\n",
      "qid: Q30643724, url: https://en.wikipedia.org/wiki/DS-16 | ballast: 135 lb\n",
      "qid: Q30643781, url: https://en.wikipedia.org/wiki/Aloha_27 | ballast: 2000 lb\n",
      "no such field\n",
      "qid: Q39053464, url: https://en.wikipedia.org/wiki/Hunter_29.5 | ballast: 2680 lb\n"
     ]
    },
    {
     "name": "stderr",
     "output_type": "stream",
     "text": [
      "Retrieving 50 pages from wikipedia:en.\n"
     ]
    },
    {
     "name": "stdout",
     "output_type": "stream",
     "text": [
      "qid: Q39053664, url: https://en.wikipedia.org/wiki/Hunter_34 | ballast: 5000 lb\n",
      "qid: Q39054375, url: https://en.wikipedia.org/wiki/Hunter_36-2 | ballast: 5023 lb\n",
      "qid: Q39055549, url: https://en.wikipedia.org/wiki/Hunter_410 | ballast: 7400 lb\n",
      "qid: Q39057163, url: https://en.wikipedia.org/wiki/Hunter_25 | ballast: 1800 lb\n",
      "qid: Q38619188, url: https://en.wikipedia.org/wiki/C%26C_37%2F40 | ballast: 6750 lb\n",
      "qid: Q39058630, url: https://en.wikipedia.org/wiki/Paceship_PY_23 | ballast: 945 lb\n",
      "qid: Q39060595, url: https://en.wikipedia.org/wiki/Hobie_Getaway | ballast: none \n",
      "qid: Q39061055, url: https://en.wikipedia.org/wiki/Chance_32%2F28 | ballast: 4680 lb\n",
      "qid: Q39061162, url: https://en.wikipedia.org/wiki/Bluejacket_23 | ballast: 900 lb\n",
      "qid: Q39075976, url: https://en.wikipedia.org/wiki/M32_%28catamaran%29 | ballast:  \n",
      "qid: Q42897027, url: https://en.wikipedia.org/wiki/Corvette_31 | ballast: 4000 lb\n",
      "qid: Q41065312, url: https://en.wikipedia.org/wiki/Catalina_16.5 | ballast:  \n",
      "qid: Q42897029, url: https://en.wikipedia.org/wiki/Catalina_25 | ballast: 1900 lb\n",
      "qid: Q42897030, url: https://en.wikipedia.org/wiki/Paceship_23 | ballast: 900 lb\n",
      "qid: Q42897031, url: https://en.wikipedia.org/wiki/Roue_20 | ballast:  \n",
      "qid: Q42897032, url: https://en.wikipedia.org/wiki/J%2F28 | ballast: 3000 lb\n",
      "qid: Q42897034, url: https://en.wikipedia.org/wiki/Hunter_44 | ballast: 7237 lb\n",
      "qid: Q42897036, url: https://en.wikipedia.org/wiki/Hunter_386 | ballast: 5900 lb\n",
      "qid: Q48840098, url: https://en.wikipedia.org/wiki/Hunter_260 | ballast: 2000 lb\n",
      "qid: Q48840162, url: https://en.wikipedia.org/wiki/Hunter_45 | ballast: 10600 lb\n",
      "qid: Q60521278, url: https://en.wikipedia.org/wiki/Hunter_45_DS | ballast: 7238 lb\n",
      "qid: Q48840203, url: https://en.wikipedia.org/wiki/Hunter_31 | ballast: 4000 lb\n",
      "qid: Q57523705, url: https://en.wikipedia.org/wiki/Hunter_31-2 | ballast: 2571 lb\n",
      "qid: Q48840267, url: https://en.wikipedia.org/wiki/Buccaneer_200 | ballast: 750 lb\n",
      "qid: Q48840860, url: https://en.wikipedia.org/wiki/Catalina_250 | ballast: 1050 lb\n",
      "qid: Q48843748, url: https://en.wikipedia.org/wiki/C%26C_Mega_30_One_Design | ballast: 2250 lb\n",
      "qid: Q48989313, url: https://en.wikipedia.org/wiki/Odyssey_30 | ballast:  \n",
      "qid: Q48989374, url: https://en.wikipedia.org/wiki/Alberg_Odyssey_30 | ballast: 3600 lb\n",
      "qid: Q48845062, url: https://en.wikipedia.org/wiki/Mirage_39 | ballast: 6000 lb\n",
      "qid: Q48989393, url: https://en.wikipedia.org/wiki/Alberg_30 | ballast: 3300 lb\n",
      "qid: Q48989455, url: https://en.wikipedia.org/wiki/Viking_28 | ballast: 2250 lb\n",
      "qid: Q48989521, url: https://en.wikipedia.org/wiki/Laser_28 | ballast: 1500 lb\n",
      "qid: Q47008570, url: https://en.wikipedia.org/wiki/Precision_23 | ballast: 850 lb\n",
      "qid: Q48848819, url: https://en.wikipedia.org/wiki/Paceship_20 | ballast:  \n",
      "qid: Q48989572, url: https://en.wikipedia.org/wiki/Grampian_28 | ballast: 3060 lb\n",
      "qid: Q48849358, url: https://en.wikipedia.org/wiki/Catalina_310 | ballast: 4000 lb\n",
      "qid: Q48850283, url: https://en.wikipedia.org/wiki/Schock_23 | ballast: 1100 lb\n",
      "qid: Q48850394, url: https://en.wikipedia.org/wiki/Skimmer_%28dinghy%29 | ballast: none \n",
      "qid: Q48850681, url: https://en.wikipedia.org/wiki/Beneteau_Oceanis_321 | ballast: 3000 lb\n",
      "qid: Q47168930, url: https://en.wikipedia.org/wiki/Martin_16 | ballast: 330 lb\n",
      "qid: Q48989635, url: https://en.wikipedia.org/wiki/Aloha_30 | ballast: 2960 lb\n",
      "qid: Q48851288, url: https://en.wikipedia.org/wiki/Catalina_28 | ballast: 3200 lb\n",
      "qid: Q48851559, url: https://en.wikipedia.org/wiki/Tartan_34-2 | ballast: 4400 lb\n",
      "qid: Q48851711, url: https://en.wikipedia.org/wiki/Tartan_34_C | ballast: 5000 lb\n",
      "qid: Q48851933, url: https://en.wikipedia.org/wiki/Tartan_33 | ballast: 4400 lb\n",
      "qid: Q48852041, url: https://en.wikipedia.org/wiki/MacGregor_25 | ballast: 625 lb\n",
      "qid: Q48852319, url: https://en.wikipedia.org/wiki/Cal_25 | ballast: 1700 lb\n",
      "qid: Q48852395, url: https://en.wikipedia.org/wiki/Cal_2-27 | ballast: 3100 lb\n"
     ]
    },
    {
     "name": "stderr",
     "output_type": "stream",
     "text": [
      "Retrieving 50 pages from wikipedia:en.\n"
     ]
    },
    {
     "name": "stdout",
     "output_type": "stream",
     "text": [
      "qid: Q48854854, url: https://en.wikipedia.org/wiki/Cal_3-27 | ballast: 2000 lb\n",
      "qid: Q48855209, url: https://en.wikipedia.org/wiki/Crown_28 | ballast: 2900 lb\n",
      "qid: Q48861666, url: https://en.wikipedia.org/wiki/Cal_20 | ballast: 900 lb\n",
      "no such field\n",
      "no such field\n",
      "no such field\n",
      "qid: Q48862688, url: https://en.wikipedia.org/wiki/Cal_28 | ballast: 2200 lb\n",
      "qid: Q55071956, url: https://en.wikipedia.org/wiki/Cal_29 | ballast: 3350 lb\n",
      "qid: Q55071957, url: https://en.wikipedia.org/wiki/Crown_23 | ballast: 1550 lb\n",
      "qid: Q55071958, url: https://en.wikipedia.org/wiki/Crown_34 | ballast: 4800 lb\n",
      "qid: Q55071960, url: https://en.wikipedia.org/wiki/San_Juan_34 | ballast: 4800 lb\n",
      "qid: Q55071961, url: https://en.wikipedia.org/wiki/C%26C_32 | ballast: 3900 lb\n",
      "qid: Q55071962, url: https://en.wikipedia.org/wiki/C%26C_26 | ballast: 2040 lb\n",
      "qid: Q55071963, url: https://en.wikipedia.org/wiki/C%26C_26_Wave | ballast: 1700 lb\n",
      "qid: Q55071964, url: https://en.wikipedia.org/wiki/C%26C_34 | ballast: 4100 lb\n",
      "qid: Q55071967, url: https://en.wikipedia.org/wiki/C%26C_34%2F36 | ballast: 4700 lb\n",
      "qid: Q55071969, url: https://en.wikipedia.org/wiki/C%26C_36-1 | ballast: 5000 lb\n",
      "qid: Q55071970, url: https://en.wikipedia.org/wiki/C%26C_36R | ballast: 6030 lb\n",
      "qid: Q55071971, url: https://en.wikipedia.org/wiki/C%26C_37 | ballast: 6000 lb\n",
      "qid: Q55071972, url: https://en.wikipedia.org/wiki/C%26C_38 | ballast: 4400 lb\n",
      "qid: Q55071973, url: https://en.wikipedia.org/wiki/C%26C_39 | ballast:  \n",
      "qid: Q55071975, url: https://en.wikipedia.org/wiki/C%26C_61 | ballast: 22178 lb\n",
      "qid: Q55071976, url: https://en.wikipedia.org/wiki/C%26C_Custom_67 | ballast: 35274 lb\n",
      "qid: Q55071977, url: https://en.wikipedia.org/wiki/C%26C_40 | ballast: lead \n",
      "qid: Q54933312, url: https://en.wikipedia.org/wiki/Hunter_310 | ballast: 3000 lb\n",
      "qid: Q54933320, url: https://en.wikipedia.org/wiki/Hunter_27 | ballast: 3000 lb\n",
      "qid: Q55071978, url: https://en.wikipedia.org/wiki/Catalina_275_Sport | ballast: 2040 lb\n",
      "qid: Q55071980, url: https://en.wikipedia.org/wiki/Sabre_28 | ballast: 2900 lb\n",
      "qid: Q54933332, url: https://en.wikipedia.org/wiki/Hunter_26 | ballast: 2000 lb\n",
      "qid: Q55071981, url: https://en.wikipedia.org/wiki/Bluenose_one-design_sloop | ballast: wooden design {{convert|750-755|lb|kg|0|abbr=on}} lead, fiberglass design {{convert|875-900|lb|kg|0|abbr=on}} cast iron<ref name=\"Constitution\">{{cite web|url = http://www.snydersshipyard.com/services/new-construction/the-w-j-roue-bluenose-class-sloop/|title = Bluenose Class Association Constitution, By-Laws, Rules, Regulations|accessdate = 30 May 2018|year = 2018}}</ref> \n",
      "qid: Q55071982, url: https://en.wikipedia.org/wiki/Viper_640 | ballast: 262 lb\n",
      "qid: Q55071983, url: https://en.wikipedia.org/wiki/Naiad_18 | ballast: 550 lb\n",
      "qid: Q55071984, url: https://en.wikipedia.org/wiki/Aloha_28 | ballast: 3000 lb\n",
      "qid: Q55071985, url: https://en.wikipedia.org/wiki/Grampian_26 | ballast: 2000 lb\n",
      "qid: Q55071986, url: https://en.wikipedia.org/wiki/Discovery_7.9 | ballast: 2300 lb\n",
      "qid: Q55071987, url: https://en.wikipedia.org/wiki/Grampian_30 | ballast: 3870 lb\n",
      "qid: Q55071988, url: https://en.wikipedia.org/wiki/Beneteau_Oceanis_281 | ballast: 1676 lb\n",
      "qid: Q55071990, url: https://en.wikipedia.org/wiki/Beneteau_First_265 | ballast: 1430 lb\n",
      "qid: Q55605204, url: https://en.wikipedia.org/wiki/Beneteau_First_25S | ballast: 1433 lb\n",
      "qid: Q55605203, url: https://en.wikipedia.org/wiki/Beneteau_First_25.7 | ballast: 1433 lb\n",
      "qid: Q55605205, url: https://en.wikipedia.org/wiki/Beneteau_First_260_Spirit | ballast: 1433 lb\n",
      "qid: Q55609940, url: https://en.wikipedia.org/wiki/Douglas_32 | ballast:  \n",
      "qid: Q55612112, url: https://en.wikipedia.org/wiki/Frigate_36 | ballast: 5200 lb\n",
      "qid: Q55614587, url: https://en.wikipedia.org/wiki/Invader_36 | ballast: 3800 lb\n",
      "qid: Q55256442, url: https://en.wikipedia.org/wiki/Mariner_19 | ballast:  \n",
      "qid: Q55614078, url: https://en.wikipedia.org/wiki/Hunter_35.5_Legend | ballast: 4800 lb\n",
      "qid: Q55614079, url: https://en.wikipedia.org/wiki/Hunter_35_Legend | ballast: 4600 lb\n",
      "qid: Q55614080, url: https://en.wikipedia.org/wiki/Hunter_36_Legend | ballast: 5132 lb\n",
      "qid: Q55614075, url: https://en.wikipedia.org/wiki/Hunter_30-2 | ballast: 3800 lb\n"
     ]
    },
    {
     "name": "stderr",
     "output_type": "stream",
     "text": [
      "Retrieving 50 pages from wikipedia:en.\n"
     ]
    },
    {
     "name": "stdout",
     "output_type": "stream",
     "text": [
      "qid: Q55614076, url: https://en.wikipedia.org/wiki/Hunter_33-2 | ballast: 3578 lb\n",
      "no such field\n",
      "qid: Q56274383, url: https://en.wikipedia.org/wiki/Bayfield_30%2F32 | ballast: 4000 lb\n",
      "qid: Q56274616, url: https://en.wikipedia.org/wiki/Express_35 | ballast: 5300 lb\n",
      "qid: Q56274632, url: https://en.wikipedia.org/wiki/Ontario_32 | ballast: 3977 lb\n",
      "qid: Q56274712, url: https://en.wikipedia.org/wiki/Starwind_223 | ballast: 700 lb\n",
      "qid: Q56274721, url: https://en.wikipedia.org/wiki/Alberg_22 | ballast: 1540 lb\n",
      "qid: Q56274726, url: https://en.wikipedia.org/wiki/F-31_Sport_Cruiser | ballast:  \n",
      "qid: Q56275152, url: https://en.wikipedia.org/wiki/Nonsuch_22 | ballast: 1800 lb\n",
      "qid: Q56276824, url: https://en.wikipedia.org/wiki/Nonsuch_30 | ballast: 4500 lb\n",
      "qid: Q56277720, url: https://en.wikipedia.org/wiki/Nonsuch_324 | ballast: 4240 lb\n",
      "qid: Q56278079, url: https://en.wikipedia.org/wiki/Nonsuch_33 | ballast: 6050 lb\n",
      "qid: Q56278084, url: https://en.wikipedia.org/wiki/Nonsuch_36 | ballast: 6500 lb\n",
      "qid: Q56278088, url: https://en.wikipedia.org/wiki/Nonsuch_40 | ballast:  \n",
      "qid: Q56280333, url: https://en.wikipedia.org/wiki/Beneteau_361 | ballast: 4156 lb\n",
      "qid: Q56282581, url: https://en.wikipedia.org/wiki/Pearson_26 | ballast: 2200 lb\n",
      "qid: Q60741726, url: https://en.wikipedia.org/wiki/Viking_33 | ballast: 4512 lb\n",
      "qid: Q60742031, url: https://en.wikipedia.org/wiki/Viking_34 | ballast: 4500 lb\n",
      "qid: Q60742158, url: https://en.wikipedia.org/wiki/Mistral_T-21 | ballast: 770 lb\n",
      "qid: Q60742185, url: https://en.wikipedia.org/wiki/O%27Day_28 | ballast: 2550 lb\n",
      "qid: Q60742196, url: https://en.wikipedia.org/wiki/Endeavour_33 | ballast: 4600 lb\n",
      "qid: Q60742197, url: https://en.wikipedia.org/wiki/Beneteau_31 | ballast: 2207 lb\n",
      "qid: Q60742301, url: https://en.wikipedia.org/wiki/Mirage_27_%28Schmidt%29 | ballast: 2200 lb\n",
      "qid: Q60742305, url: https://en.wikipedia.org/wiki/Mirage_27_%28Perry%29 | ballast: 2200 lb\n",
      "qid: Q60742706, url: https://en.wikipedia.org/wiki/C%26C_41 | ballast: 8000 lb\n",
      "qid: Q60743375, url: https://en.wikipedia.org/wiki/C%26C_42_Custom | ballast:  \n",
      "qid: Q60743382, url: https://en.wikipedia.org/wiki/C%26C_43-1 | ballast: 9980 lb\n",
      "qid: Q60743385, url: https://en.wikipedia.org/wiki/C%26C_43-2 | ballast:  \n",
      "qid: Q60743506, url: https://en.wikipedia.org/wiki/C%26C_44 | ballast: 9850 lb\n",
      "qid: Q60743524, url: https://en.wikipedia.org/wiki/C%26C_45 | ballast: 9800 lb\n",
      "qid: Q60743728, url: https://en.wikipedia.org/wiki/C%26C_46 | ballast:  \n",
      "qid: Q60743839, url: https://en.wikipedia.org/wiki/C%26C_48_Custom | ballast: 12750 lb\n",
      "qid: Q60743844, url: https://en.wikipedia.org/wiki/C%26C_50 | ballast: 15000 lb\n",
      "qid: Q60743935, url: https://en.wikipedia.org/wiki/C%26C_51_Custom | ballast: 13800 lb\n",
      "qid: Q60743939, url: https://en.wikipedia.org/wiki/C%26C_53 | ballast:  \n",
      "qid: Q60744099, url: https://en.wikipedia.org/wiki/C%26C_57 | ballast: 17700 lb\n",
      "qid: Q60744655, url: https://en.wikipedia.org/wiki/Landfall_35 | ballast: 5500 lb\n",
      "qid: Q60744730, url: https://en.wikipedia.org/wiki/C%26C_Custom_62 | ballast: 26000 lb\n",
      "qid: Q60744831, url: https://en.wikipedia.org/wiki/Landfall_38 | ballast: 6500 lb\n",
      "qid: Q56825582, url: https://en.wikipedia.org/wiki/Tonic_23 | ballast: 1058 lb\n",
      "qid: Q56846995, url: https://en.wikipedia.org/wiki/Edel_665 | ballast: 882 lb\n",
      "qid: Q60746421, url: https://en.wikipedia.org/wiki/Edel_540 | ballast: 331 lb\n",
      "qid: Q60746553, url: https://en.wikipedia.org/wiki/C%26C_Landfall_39 | ballast: 6248 lb\n",
      "qid: Q60746573, url: https://en.wikipedia.org/wiki/Landfall_39_%28Amy%29 | ballast: 8800 lb\n",
      "qid: Q60746611, url: https://en.wikipedia.org/wiki/Landfall_42 | ballast: 8800 lb\n",
      "qid: Q60746614, url: https://en.wikipedia.org/wiki/Landfall_43 | ballast: 9075 lb\n",
      "qid: Q60746796, url: https://en.wikipedia.org/wiki/Landfall_48 | ballast: 12300 lb\n",
      "qid: Q60746812, url: https://en.wikipedia.org/wiki/C%26C_SR_21 | ballast: 439 lb\n",
      "qid: Q60746818, url: https://en.wikipedia.org/wiki/C%26C_SR_25 | ballast:  \n",
      "qid: Q60746816, url: https://en.wikipedia.org/wiki/C%26C_SR_27 | ballast:  \n"
     ]
    },
    {
     "name": "stderr",
     "output_type": "stream",
     "text": [
      "Retrieving 50 pages from wikipedia:en.\n"
     ]
    },
    {
     "name": "stdout",
     "output_type": "stream",
     "text": [
      "qid: Q60746830, url: https://en.wikipedia.org/wiki/C%26C_SR_33 | ballast:  \n",
      "qid: Q60747190, url: https://en.wikipedia.org/wiki/Geary_18 | ballast:  \n",
      "qid: Q60747909, url: https://en.wikipedia.org/wiki/MacGregor_24 | ballast: 575 lb\n",
      "qid: Q60748352, url: https://en.wikipedia.org/wiki/Spindrift_22 | ballast: 600 lb\n",
      "qid: Q60748357, url: https://en.wikipedia.org/wiki/Catalina_18 | ballast: 425 lb\n",
      "qid: Q60521237, url: https://en.wikipedia.org/wiki/Hunter_26.5 | ballast: 1800 lb\n",
      "qid: Q60521239, url: https://en.wikipedia.org/wiki/Hunter_27-2 | ballast: 2000 lb\n",
      "qid: Q60521240, url: https://en.wikipedia.org/wiki/Hunter_27-3 | ballast: 3400 lb\n",
      "qid: Q60521238, url: https://en.wikipedia.org/wiki/Hunter_27_Edge | ballast: 1600 lb\n",
      "qid: Q60521248, url: https://en.wikipedia.org/wiki/Hunter_30 | ballast: 4100 lb\n",
      "qid: Q60521249, url: https://en.wikipedia.org/wiki/Hunter_30T | ballast: 3800 lb\n",
      "qid: Q60521222, url: https://en.wikipedia.org/wiki/Hunter_146 | ballast: none \n",
      "qid: Q60521223, url: https://en.wikipedia.org/wiki/Hunter_170 | ballast: none \n",
      "qid: Q60521224, url: https://en.wikipedia.org/wiki/Hunter_18.5 | ballast: 520 lb\n",
      "qid: Q60521227, url: https://en.wikipedia.org/wiki/Hunter_19-1 | ballast:  \n",
      "qid: Q60521228, url: https://en.wikipedia.org/wiki/Hunter_19-2 | ballast:  \n",
      "qid: Q60521225, url: https://en.wikipedia.org/wiki/Hunter_19_%28Europa%29 | ballast: 750 lb\n",
      "qid: Q60521229, url: https://en.wikipedia.org/wiki/Hunter_20 | ballast: 400 lb\n",
      "qid: Q60521230, url: https://en.wikipedia.org/wiki/Hunter_212 | ballast: 140 lb\n",
      "qid: Q60521231, url: https://en.wikipedia.org/wiki/Hunter_216 | ballast: 500 lb\n",
      "qid: Q60521232, url: https://en.wikipedia.org/wiki/Hunter_22 | ballast: 1400 lb\n",
      "qid: Q60751371, url: https://en.wikipedia.org/wiki/Marlow-Hunter_22 | ballast: 500 lb\n",
      "qid: Q60521233, url: https://en.wikipedia.org/wiki/Hunter_23.5 | ballast: 1000 lb\n",
      "qid: Q60521235, url: https://en.wikipedia.org/wiki/Hunter_240 | ballast: 1300 lb\n",
      "qid: Q60521236, url: https://en.wikipedia.org/wiki/Hunter_25.5 | ballast: 1800 lb\n",
      "qid: Q60521242, url: https://en.wikipedia.org/wiki/Hunter_270 | ballast:  \n",
      "qid: Q60521243, url: https://en.wikipedia.org/wiki/Hunter_28 | ballast: 2800 lb\n",
      "qid: Q60521244, url: https://en.wikipedia.org/wiki/Hunter_28.5 | ballast: 3000 lb\n",
      "qid: Q60521246, url: https://en.wikipedia.org/wiki/Hunter_280 | ballast: 2100 lb\n",
      "qid: Q60521247, url: https://en.wikipedia.org/wiki/Hunter_290 | ballast: 2550 lb\n",
      "qid: Q60521251, url: https://en.wikipedia.org/wiki/Hunter_320 | ballast: 3200 lb\n",
      "qid: Q60521252, url: https://en.wikipedia.org/wiki/Hunter_326 | ballast: 3200 lb\n",
      "qid: Q60521253, url: https://en.wikipedia.org/wiki/Hunter_33 | ballast: 4100 lb\n",
      "no such field\n",
      "qid: Q60755294, url: https://en.wikipedia.org/wiki/Marlow-Hunter_33 | ballast: 3459 lb\n",
      "qid: Q60521254, url: https://en.wikipedia.org/wiki/Hunter_33.5 | ballast: 4500 lb\n",
      "qid: Q60755809, url: https://en.wikipedia.org/wiki/Moorings_335 | ballast: 4500 lb\n",
      "qid: Q60755821, url: https://en.wikipedia.org/wiki/Moorings_295 | ballast: 2680 lb\n",
      "qid: Q60521256, url: https://en.wikipedia.org/wiki/Hunter_333 | ballast: 4000 lb\n",
      "qid: Q60521257, url: https://en.wikipedia.org/wiki/Hunter_336 | ballast: 4100 lb\n",
      "qid: Q60521258, url: https://en.wikipedia.org/wiki/Hunter_340 | ballast: 4100 lb\n",
      "qid: Q60521259, url: https://en.wikipedia.org/wiki/Hunter_36 | ballast: 6000 lb\n",
      "qid: Q60521261, url: https://en.wikipedia.org/wiki/Hunter_36_Vision | ballast: 5900 lb\n",
      "qid: Q60521262, url: https://en.wikipedia.org/wiki/Hunter_37 | ballast: 6850 lb\n",
      "qid: Q60521263, url: https://en.wikipedia.org/wiki/Hunter_37_Legend | ballast: 6000 lb\n",
      "qid: Q60521264, url: https://en.wikipedia.org/wiki/Hunter_37.5_Legend | ballast: 5900 lb\n",
      "qid: Q60761183, url: https://en.wikipedia.org/wiki/Northern_25 | ballast: 2300 lb\n",
      "qid: Q60761356, url: https://en.wikipedia.org/wiki/Outlaw_26 | ballast: 2300 lb\n",
      "qid: Q60521265, url: https://en.wikipedia.org/wiki/Hunter_376 | ballast: 5400 lb\n"
     ]
    },
    {
     "name": "stderr",
     "output_type": "stream",
     "text": [
      "Retrieving 50 pages from wikipedia:en.\n"
     ]
    },
    {
     "name": "stdout",
     "output_type": "stream",
     "text": [
      "qid: Q60521268, url: https://en.wikipedia.org/wiki/Hunter_380 | ballast: 5900 lb\n",
      "qid: Q60521266, url: https://en.wikipedia.org/wiki/Hunter_38 | ballast: 6130 lb\n",
      "qid: Q60521269, url: https://en.wikipedia.org/wiki/Hunter_39 | ballast: 5603 lb\n",
      "qid: Q60521270, url: https://en.wikipedia.org/wiki/Hunter_40 | ballast: 7900 lb\n",
      "qid: Q60761885, url: https://en.wikipedia.org/wiki/Marlow-Hunter_40 | ballast: 6027 lb\n",
      "qid: Q60521272, url: https://en.wikipedia.org/wiki/Hunter_40.5 | ballast: 7000 lb\n",
      "qid: Q60521273, url: https://en.wikipedia.org/wiki/Hunter_41 | ballast: 6506 lb\n",
      "qid: Q60762407, url: https://en.wikipedia.org/wiki/Hunter_Passage_42 | ballast: 7700 lb\n",
      "qid: Q60521274, url: https://en.wikipedia.org/wiki/Hunter_420 | ballast: 6700 lb\n",
      "qid: Q60521275, url: https://en.wikipedia.org/wiki/Hunter_426 | ballast: 7237 lb\n",
      "qid: Q60521277, url: https://en.wikipedia.org/wiki/Hunter_43_Legend | ballast: 7600 lb\n",
      "qid: Q60766059, url: https://en.wikipedia.org/wiki/Hunter_430 | ballast: 7600 lb\n",
      "qid: Q60766678, url: https://en.wikipedia.org/wiki/Hunter_Passage_450 | ballast: 9680 lb\n",
      "qid: Q60766878, url: https://en.wikipedia.org/wiki/Hunter_456 | ballast: 9680 lb\n",
      "qid: Q60767092, url: https://en.wikipedia.org/wiki/Hunter_Xcite | ballast: none \n",
      "qid: Q60767856, url: https://en.wikipedia.org/wiki/Hunter_460 | ballast: 9680 lb\n",
      "qid: Q60768280, url: https://en.wikipedia.org/wiki/Pearson_Electra | ballast: 1299 lb\n",
      "qid: Q60768413, url: https://en.wikipedia.org/wiki/Hunter_466 | ballast: 9680 lb\n",
      "qid: Q60768484, url: https://en.wikipedia.org/wiki/Hunter_49 | ballast: 12544 lb\n",
      "qid: Q60768634, url: https://en.wikipedia.org/wiki/Marlow-Hunter_50 | ballast: 9093 lb\n",
      "qid: Q60768655, url: https://en.wikipedia.org/wiki/Marlow-Hunter_50_Center_Cockpit | ballast: 11216 lb\n",
      "qid: Q60768876, url: https://en.wikipedia.org/wiki/Hunter_54 | ballast: 8200 lb\n",
      "qid: Q60769141, url: https://en.wikipedia.org/wiki/Hunter_HC_50 | ballast: 5600 lb\n",
      "qid: Q60769207, url: https://en.wikipedia.org/wiki/Marlow-Hunter_31 | ballast: 3380 lb\n",
      "qid: Q60769515, url: https://en.wikipedia.org/wiki/Marlow-Hunter_18 | ballast:  \n",
      "qid: Q60769655, url: https://en.wikipedia.org/wiki/Marlow-Hunter_37 | ballast: 5727 lb\n",
      "qid: Q60769928, url: https://en.wikipedia.org/wiki/Marlow-Hunter_42SS | ballast: 5425 lb\n",
      "qid: Q60770261, url: https://en.wikipedia.org/wiki/Marlow-Hunter_47 | ballast: 12500 lb\n",
      "qid: Q65118749, url: https://en.wikipedia.org/wiki/Falmouth_Cutter_22 | ballast: 2500 lb\n",
      "qid: Q65119150, url: https://en.wikipedia.org/wiki/Marshall_22 | ballast: 850 lb\n",
      "qid: Q65120567, url: https://en.wikipedia.org/wiki/Cape_Dory_22 | ballast: 1400 lb\n",
      "qid: Q65120705, url: https://en.wikipedia.org/wiki/Stone_Horse | ballast: 2000 lb\n",
      "qid: Q65121536, url: https://en.wikipedia.org/wiki/Flicka_20 | ballast: 1720 lb\n",
      "qid: Q65073901, url: https://en.wikipedia.org/wiki/Seidelmann_245 | ballast: 1300 lb\n",
      "qid: Q65074417, url: https://en.wikipedia.org/wiki/Capri_25 | ballast: 900 lb\n",
      "qid: Q65074798, url: https://en.wikipedia.org/wiki/Merit_25 | ballast: 1050 lb\n",
      "qid: Q65075596, url: https://en.wikipedia.org/wiki/Dufour_1800 | ballast: 1653 lb\n",
      "qid: Q65076969, url: https://en.wikipedia.org/wiki/Cal_2-25 | ballast: 2000 lb\n",
      "qid: Q65077640, url: https://en.wikipedia.org/wiki/Beachcomber_25 | ballast: 1600 lb\n",
      "qid: Q65078067, url: https://en.wikipedia.org/wiki/Parker_Dawson_26 | ballast: 1100 lb\n",
      "qid: Q65079859, url: https://en.wikipedia.org/wiki/Freedom_25 | ballast: 1025 lb\n",
      "qid: Q65080021, url: https://en.wikipedia.org/wiki/Yamaha_26 | ballast: 1433 lb\n",
      "qid: Q65080589, url: https://en.wikipedia.org/wiki/Herreshoff_H-26 | ballast: 3000 lb\n",
      "qid: Q65082169, url: https://en.wikipedia.org/wiki/Stiletto_27 | ballast: none \n",
      "qid: Q65082468, url: https://en.wikipedia.org/wiki/Hotfoot_27 | ballast: 1500 lb\n",
      "qid: Q65084249, url: https://en.wikipedia.org/wiki/Dana_24 | ballast: 3100 lb\n",
      "qid: Q65062543, url: https://en.wikipedia.org/wiki/Orion_27-2 | ballast: 3300 lb\n",
      "qid: Q65063395, url: https://en.wikipedia.org/wiki/Sea_Sprite_27 | ballast: 3000 lb\n",
      "no such field\n",
      "qid: Q65064134, url: https://en.wikipedia.org/wiki/Cumulus_28 | ballast: 2812 lb\n"
     ]
    },
    {
     "name": "stderr",
     "output_type": "stream",
     "text": [
      "Retrieving 50 pages from wikipedia:en.\n"
     ]
    },
    {
     "name": "stdout",
     "output_type": "stream",
     "text": [
      "qid: Q65056792, url: https://en.wikipedia.org/wiki/Alberg_29 | ballast: 4000 lb\n",
      "qid: Q65057065, url: https://en.wikipedia.org/wiki/Annie_30 | ballast:  \n",
      "qid: Q65057554, url: https://en.wikipedia.org/wiki/Leigh_30 | ballast: 4400 lb\n",
      "qid: Q65057956, url: https://en.wikipedia.org/wiki/Bahama_30 | ballast: 3130 lb\n",
      "qid: Q65066039, url: https://en.wikipedia.org/wiki/Bristol_29.9 | ballast: 3600 lb\n",
      "qid: Q65066674, url: https://en.wikipedia.org/wiki/O%27Day_30 | ballast: 4000 lb\n",
      "qid: Q65070175, url: https://en.wikipedia.org/wiki/S2_9.2 | ballast: 4000 lb\n",
      "qid: Q65072746, url: https://en.wikipedia.org/wiki/Santana_30%2F30 | ballast: 2310 lb\n",
      "qid: Q65073093, url: https://en.wikipedia.org/wiki/Cal_9.2 | ballast: 2730 lb\n",
      "qid: Q65040892, url: https://en.wikipedia.org/wiki/Seafarer_30 | ballast: 3450 lb\n",
      "qid: Q65042277, url: https://en.wikipedia.org/wiki/Edel_820 | ballast: 2646 lb\n",
      "qid: Q65043774, url: https://en.wikipedia.org/wiki/Island_Packet_27 | ballast: 3000 lb\n",
      "qid: Q65049058, url: https://en.wikipedia.org/wiki/Island_Packet_29 | ballast: 4800 lb\n",
      "qid: Q65051640, url: https://en.wikipedia.org/wiki/Island_Packet_35 | ballast: 8000 lb\n",
      "qid: Q65052975, url: https://en.wikipedia.org/wiki/Catalina_36 | ballast: 6000 lb\n",
      "qid: Q65054449, url: https://en.wikipedia.org/wiki/Catalina_375 | ballast: 5200 lb\n",
      "qid: Q85765533, url: https://en.wikipedia.org/wiki/Hallberg-Rassy_40 | ballast:  \n",
      "qid: Q85748114, url: https://en.wikipedia.org/wiki/Bombardier_7.6 | ballast: 985 lb\n",
      "qid: Q85748111, url: https://en.wikipedia.org/wiki/Bombardier_4.8 | ballast: none \n",
      "qid: Q85748109, url: https://en.wikipedia.org/wiki/Bombardier_3.8 | ballast: none \n",
      "qid: Q65920494, url: https://en.wikipedia.org/wiki/Com-Pac_Sunday_Cat | ballast: 300 lb\n",
      "qid: Q85751384, url: https://en.wikipedia.org/wiki/Challenger_24 | ballast: 2090 lb\n",
      "qid: Q65971859, url: https://en.wikipedia.org/wiki/Beneteau_First_26 | ballast: 1455 lb\n",
      "qid: Q66125131, url: https://en.wikipedia.org/wiki/Hobie_Wave | ballast: none \n",
      "qid: Q85792609, url: https://en.wikipedia.org/wiki/Pearson_303 | ballast: 3500 lb\n",
      "qid: Q85802376, url: https://en.wikipedia.org/wiki/Southern_Cross_28 | ballast: 3400 lb\n",
      "qid: Q85740943, url: https://en.wikipedia.org/wiki/Allmand_31 | ballast: 4300 lb\n",
      "qid: Q85766397, url: https://en.wikipedia.org/wiki/Herreshoff_31 | ballast: 3350 lb\n",
      "qid: Q85788953, url: https://en.wikipedia.org/wiki/Niagara_31 | ballast: 3550 lb\n",
      "qid: Q85753944, url: https://en.wikipedia.org/wiki/Contest_32_CS | ballast: 6380 lb\n",
      "qid: Q85786290, url: https://en.wikipedia.org/wiki/Morgan_32 | ballast: 4000 lb\n",
      "qid: Q85764141, url: https://en.wikipedia.org/wiki/Gougeon_32 | ballast: 1200 lb\n",
      "qid: Q85740991, url: https://en.wikipedia.org/wiki/Aloha_32 | ballast: 4018 lb\n",
      "qid: Q66737997, url: https://en.wikipedia.org/wiki/West_Wight_Potter_19 | ballast: 370 lb\n",
      "no such field\n",
      "qid: Q66812827, url: https://en.wikipedia.org/wiki/Hobie_Bravo | ballast:  \n",
      "qid: Q66812780, url: https://en.wikipedia.org/wiki/American_14.6 | ballast: none \n",
      "qid: Q85791701, url: https://en.wikipedia.org/wiki/Paceship_PY_26 | ballast: 2200 lb\n",
      "no such field\n",
      "no such field\n",
      "no such field\n",
      "qid: Q85790079, url: https://en.wikipedia.org/wiki/O%27Day_272 | ballast: 1930 lb\n",
      "no such field\n",
      "qid: Q67892974, url: https://en.wikipedia.org/wiki/Beneteau_323 | ballast: 2414 lb\n",
      "qid: Q74360386, url: https://en.wikipedia.org/wiki/F50_%28catamaran%29 | ballast:  \n",
      "qid: Q68411587, url: https://en.wikipedia.org/wiki/Hobie_17 | ballast: none \n",
      "qid: Q68711347, url: https://en.wikipedia.org/wiki/Topper_Topaz | ballast: none \n",
      "qid: Q85765552, url: https://en.wikipedia.org/wiki/Halman_Horizon | ballast: 2250 lb\n",
      "qid: Q68711044, url: https://en.wikipedia.org/wiki/Northwind_29 | ballast: 3180 lb\n"
     ]
    },
    {
     "name": "stderr",
     "output_type": "stream",
     "text": [
      "Retrieving 50 pages from wikipedia:en.\n"
     ]
    },
    {
     "name": "stdout",
     "output_type": "stream",
     "text": [
      "qid: Q85744196, url: https://en.wikipedia.org/wiki/Austral_20_%28trailer_sailer%29 | ballast: 950 kg\n",
      "qid: Q68951111, url: https://en.wikipedia.org/wiki/Cornish_Shrimper_19 | ballast:  \n",
      "qid: Q69850721, url: https://en.wikipedia.org/wiki/Sirocco_15 | ballast: 75 lb\n",
      "qid: Q85814655, url: https://en.wikipedia.org/wiki/Watkins_32 | ballast: 5500 lb\n",
      "qid: Q85814656, url: https://en.wikipedia.org/wiki/Watkins_33 | ballast: 5500 lb\n",
      "qid: Q85755722, url: https://en.wikipedia.org/wiki/Dark_Harbor_17_1%2F2 | ballast:  \n",
      "qid: Q85753417, url: https://en.wikipedia.org/wiki/Columbia_32 | ballast: 4050 lb\n",
      "qid: Q85814647, url: https://en.wikipedia.org/wiki/Watkins_23 | ballast: 900 lb\n",
      "qid: Q70924160, url: https://en.wikipedia.org/wiki/Drascombe_Lugger | ballast: 100 lb\n",
      "qid: Q73117433, url: https://en.wikipedia.org/wiki/Gulfstar_43 | ballast: 5000 lb\n",
      "qid: Q85814644, url: https://en.wikipedia.org/wiki/Watkins_17 | ballast: 90 lb\n",
      "qid: Q85814650, url: https://en.wikipedia.org/wiki/Watkins_27 | ballast: 3500 lb\n",
      "qid: Q85814651, url: https://en.wikipedia.org/wiki/Watkins_27P | ballast: 3500 lb\n",
      "qid: Q85794077, url: https://en.wikipedia.org/wiki/Portman_36 | ballast: 6000 lb\n",
      "qid: Q85814658, url: https://en.wikipedia.org/wiki/Watkins_36 | ballast: 6000 lb\n",
      "qid: Q85814659, url: https://en.wikipedia.org/wiki/Watkins_36C | ballast: 6000 lb\n",
      "qid: Q85754136, url: https://en.wikipedia.org/wiki/Coronado_35 | ballast: 4700 lb\n",
      "qid: Q85753426, url: https://en.wikipedia.org/wiki/Columbia_36 | ballast: 5000 lb\n",
      "qid: Q85814653, url: https://en.wikipedia.org/wiki/Watkins_29 | ballast: 3900 lb\n",
      "qid: Q85814648, url: https://en.wikipedia.org/wiki/Watkins_25 | ballast: 1900 lb\n",
      "qid: Q85753415, url: https://en.wikipedia.org/wiki/Columbia_24 | ballast: 1800 lb\n",
      "qid: Q105605819, url: https://en.wikipedia.org/wiki/Columbia_24_Challenger | ballast: 1800 lb\n",
      "qid: Q105638309, url: https://en.wikipedia.org/wiki/Columbia_24_Contender | ballast: 1600 lb\n",
      "qid: Q85770150, url: https://en.wikipedia.org/wiki/Islander_24 | ballast: 1600 lb\n",
      "qid: Q85770154, url: https://en.wikipedia.org/wiki/Islander_24_Bahama | ballast: 1700 lb\n",
      "qid: Q85753457, url: https://en.wikipedia.org/wiki/Com-Pac_25 | ballast: 1900 lb\n",
      "qid: Q85753425, url: https://en.wikipedia.org/wiki/Columbia_34_Mark_II | ballast: 4700 lb\n",
      "qid: Q85767649, url: https://en.wikipedia.org/wiki/Hughes_36 | ballast: 4700 lb\n",
      "qid: Q85767647, url: https://en.wikipedia.org/wiki/Hughes-Columbia_36 | ballast: 6300 lb\n",
      "qid: Q85753423, url: https://en.wikipedia.org/wiki/Columbia_34 | ballast: 4200 lb\n",
      "qid: Q85753419, url: https://en.wikipedia.org/wiki/Columbia_33_Caribbean | ballast: 4200 lb\n",
      "qid: Q85742790, url: https://en.wikipedia.org/wiki/Arco_33 | ballast:  \n",
      "qid: Q85753430, url: https://en.wikipedia.org/wiki/Columbia_40 | ballast: 8400 lb\n",
      "qid: Q85753428, url: https://en.wikipedia.org/wiki/Columbia_38 | ballast: 6400 lb\n",
      "qid: Q85765657, url: https://en.wikipedia.org/wiki/Hans_Christian_33 | ballast: 6300 lb\n",
      "qid: Q85799463, url: https://en.wikipedia.org/wiki/San_Juan_33S | ballast: 3500 lb\n",
      "qid: Q85750525, url: https://en.wikipedia.org/wiki/Cape_Dory_33 | ballast: 5500 lb\n",
      "qid: Q85750526, url: https://en.wikipedia.org/wiki/Cape_Dory_330 | ballast: 5500 lb\n",
      "qid: Q85755070, url: https://en.wikipedia.org/wiki/DB-1 | ballast: 3525 lb\n",
      "qid: Q85755072, url: https://en.wikipedia.org/wiki/DB-2 | ballast: 3627 lb\n",
      "qid: Q85753143, url: https://en.wikipedia.org/wiki/Coast_34 | ballast: 6400 lb\n",
      "qid: Q85750062, url: https://en.wikipedia.org/wiki/Cal_35 | ballast: 5200 lb\n",
      "qid: Q85750065, url: https://en.wikipedia.org/wiki/Cal_35_Cruise | ballast: 5000 lb\n",
      "qid: Q85788956, url: https://en.wikipedia.org/wiki/Niagara_35 | ballast: 5500 lb\n",
      "qid: Q85802378, url: https://en.wikipedia.org/wiki/Southern_Cross_35 | ballast: 5750 lb\n",
      "qid: Q85762076, url: https://en.wikipedia.org/wiki/Freedom_35 | ballast: 4465 lb\n",
      "qid: Q82780482, url: https://en.wikipedia.org/wiki/J%2F35 | ballast: 4400 lb\n",
      "qid: Q85759559, url: https://en.wikipedia.org/wiki/Ericson_36 | ballast: 5230 lb\n"
     ]
    },
    {
     "name": "stderr",
     "output_type": "stream",
     "text": [
      "Retrieving 50 pages from wikipedia:en.\n"
     ]
    },
    {
     "name": "stdout",
     "output_type": "stream",
     "text": [
      "qid: Q85763810, url: https://en.wikipedia.org/wiki/Goderich_35 | ballast: 6200 lb\n",
      "no such field\n",
      "qid: Q85793336, url: https://en.wikipedia.org/wiki/Pilot_35 | ballast: 4600 lb\n",
      "qid: Q85798304, url: https://en.wikipedia.org/wiki/S2_11.0 | ballast: 6000 lb\n",
      "qid: Q85812747, url: https://en.wikipedia.org/wiki/Vancouver_36_%28Harris%29 | ballast: 8000 lb\n",
      "qid: Q85766638, url: https://en.wikipedia.org/wiki/Hinterhoeller_F3 | ballast: 5730 lb\n",
      "qid: Q85800238, url: https://en.wikipedia.org/wiki/Seidelmann_37 | ballast: 5900 lb\n",
      "qid: Q85754486, url: https://en.wikipedia.org/wiki/Crealock_37 | ballast: 6200 lb\n",
      "no such field\n",
      "qid: Q85740467, url: https://en.wikipedia.org/wiki/Alajuela_33 | ballast: 4700 lb\n",
      "qid: Q85745098, url: https://en.wikipedia.org/wiki/Baltic_37 | ballast: 6120 lb\n",
      "qid: Q85756826, url: https://en.wikipedia.org/wiki/Dickerson_37 | ballast: 5850 lb\n",
      "no such field\n",
      "qid: Q85757253, url: https://en.wikipedia.org/wiki/Dockrell_37 | ballast:  \n",
      "qid: Q85740553, url: https://en.wikipedia.org/wiki/Alberg_37 | ballast: 6500 lb\n",
      "qid: Q85759264, url: https://en.wikipedia.org/wiki/Endeavour_37 | ballast: 8000 lb\n",
      "no such field\n",
      "qid: Q85754514, url: https://en.wikipedia.org/wiki/Creekmore_34 | ballast: 7000 lb\n",
      "no such field\n",
      "qid: Q96405459, url: https://en.wikipedia.org/wiki/Shannon_38 | ballast:  \n",
      "qid: Q96404763, url: https://en.wikipedia.org/wiki/Sabre_38 | ballast: 6400 lb\n",
      "qid: Q96371669, url: https://en.wikipedia.org/wiki/Alajuela_38 | ballast: 8600 lb\n",
      "qid: Q96376059, url: https://en.wikipedia.org/wiki/Dawson_26 | ballast: 1165 lb\n",
      "qid: Q96415742, url: https://en.wikipedia.org/wiki/Yankee_38 | ballast: 7327 lb\n",
      "qid: Q96377799, url: https://en.wikipedia.org/wiki/Farr_38 | ballast: 4100 lb\n",
      "qid: Q96375487, url: https://en.wikipedia.org/wiki/Corbin_39 | ballast: 9000 lb\n",
      "qid: Q96374264, url: https://en.wikipedia.org/wiki/Cal_39 | ballast: 6600 lb\n",
      "qid: Q96374266, url: https://en.wikipedia.org/wiki/Cal_39_Mark_II | ballast: 7000 lb\n",
      "qid: Q96374265, url: https://en.wikipedia.org/wiki/Cal_39_%28Hunt%2FO%27Day%29 | ballast: 7000 lb\n",
      "qid: Q96378520, url: https://en.wikipedia.org/wiki/Freedom_39_PH | ballast: 5300 lb\n",
      "qid: Q96378517, url: https://en.wikipedia.org/wiki/Freedom_39 | ballast: 5300 lb\n",
      "qid: Q96395089, url: https://en.wikipedia.org/wiki/Nautical_39 | ballast:  \n",
      "qid: Q96373028, url: https://en.wikipedia.org/wiki/Baltic_40 | ballast: 6173 lb\n",
      "qid: Q96382940, url: https://en.wikipedia.org/wiki/Islander_40 | ballast: 7700 lb\n",
      "qid: Q96396152, url: https://en.wikipedia.org/wiki/Nordic_40 | ballast: 7091 lb\n",
      "qid: Q96396155, url: https://en.wikipedia.org/wiki/Nordic_44 | ballast: 9340 lb\n",
      "qid: Q96377277, url: https://en.wikipedia.org/wiki/Endeavour_40 | ballast: 9000 lb\n",
      "qid: Q96373967, url: https://en.wikipedia.org/wiki/Bristol_40 | ballast: 6500 lb\n",
      "qid: Q96373966, url: https://en.wikipedia.org/wiki/Bristol_39 | ballast: 6500 lb\n",
      "qid: Q96373435, url: https://en.wikipedia.org/wiki/Bermuda_40 | ballast: 6500 lb\n",
      "qid: Q96376349, url: https://en.wikipedia.org/wiki/Dickerson_41 | ballast: 8500 lb\n",
      "qid: Q96390804, url: https://en.wikipedia.org/wiki/Lord_Nelson_41 | ballast: 11000 lb\n",
      "qid: Q96395499, url: https://en.wikipedia.org/wiki/Newport_41 | ballast: 8215 lb\n",
      "qid: Q96393913, url: https://en.wikipedia.org/wiki/Morgan_Out_Island_41 | ballast: 10500 lb\n",
      "qid: Q96395781, url: https://en.wikipedia.org/wiki/Nimbus_42 | ballast: 10000 lb\n",
      "qid: Q96382892, url: https://en.wikipedia.org/wiki/Irwin_41 | ballast: 8000 lb\n"
     ]
    },
    {
     "name": "stderr",
     "output_type": "stream",
     "text": [
      "Retrieving 50 pages from wikipedia:en.\n"
     ]
    },
    {
     "name": "stdout",
     "output_type": "stream",
     "text": [
      "qid: Q96382893, url: https://en.wikipedia.org/wiki/Irwin_41_Citation | ballast: 9500 lb\n",
      "qid: Q96382889, url: https://en.wikipedia.org/wiki/Irwin_27 | ballast:  \n",
      "qid: Q94158092, url: https://en.wikipedia.org/wiki/Tayana_37 | ballast: 8000 lb\n",
      "qid: Q3071605, url: https://en.wikipedia.org/wiki/B%C3%A9n%C3%A9teau_Figaro | ballast:  \n",
      "qid: Q96374279, url: https://en.wikipedia.org/wiki/Caliber_40 | ballast: 9500 lb\n",
      "qid: Q94574694, url: https://en.wikipedia.org/wiki/Nauticat_44 | ballast:  \n",
      "qid: Q96415561, url: https://en.wikipedia.org/wiki/Worldcruiser_44 | ballast: 8500 lb\n",
      "qid: Q96371711, url: https://en.wikipedia.org/wiki/Alden_44 | ballast: 10000 lb\n",
      "qid: Q96374857, url: https://en.wikipedia.org/wiki/Cherry_16 | ballast: 41 kg\n",
      "qid: Q96373287, url: https://en.wikipedia.org/wiki/Bayfield_40 | ballast: 8200 lb\n",
      "qid: Q96373286, url: https://en.wikipedia.org/wiki/Bayfield_36 | ballast: 6500 lb\n",
      "qid: Q96373285, url: https://en.wikipedia.org/wiki/Bayfield_29 | ballast: 3000 lb\n",
      "qid: Q96374389, url: https://en.wikipedia.org/wiki/Cape_Cod_Frosty | ballast: water ballast in plastic bottles for class rules \n",
      "qid: Q96405590, url: https://en.wikipedia.org/wiki/Shrimp_%28dinghy%29 | ballast:  \n",
      "qid: Q96373714, url: https://en.wikipedia.org/wiki/Blue_Crab_11 | ballast:  \n",
      "qid: Q96405815, url: https://en.wikipedia.org/wiki/Skunk_11 | ballast:  \n",
      "qid: Q96406185, url: https://en.wikipedia.org/wiki/Spindrift_13 | ballast:  \n",
      "qid: Q96373656, url: https://en.wikipedia.org/wiki/Core_Sound_20_Mark_3 | ballast: 438 lb\n",
      "qid: Q96353690, url: https://en.wikipedia.org/wiki/Niagara_26 | ballast: 1700 lb\n",
      "qid: Q96419362, url: https://en.wikipedia.org/wiki/Sirius_26 | ballast: 1790 lb\n",
      "qid: Q96419361, url: https://en.wikipedia.org/wiki/Sirius_22 | ballast: 525 lb\n",
      "qid: Q92474899, url: https://en.wikipedia.org/wiki/Sun_Odyssey_349 | ballast: 3483 lb\n",
      "qid: Q96625775, url: https://en.wikipedia.org/wiki/Beneteau_331 | ballast: 3253 lb\n",
      "qid: Q97193852, url: https://en.wikipedia.org/wiki/Interclub_Dinghy | ballast:  \n",
      "qid: Q97304220, url: https://en.wikipedia.org/wiki/Echo_12 | ballast:  \n",
      "qid: Q97279496, url: https://en.wikipedia.org/wiki/Howmar_12 | ballast:  \n",
      "qid: Q97179551, url: https://en.wikipedia.org/wiki/J%2F92s | ballast:  \n",
      "qid: Q97277660, url: https://en.wikipedia.org/wiki/Widgeon_12 | ballast:  \n",
      "qid: Q97175051, url: https://en.wikipedia.org/wiki/Puffer_%28dinghy%29 | ballast:  \n",
      "qid: Q97173284, url: https://en.wikipedia.org/wiki/Tech_Dinghy | ballast:  \n",
      "qid: Q97170629, url: https://en.wikipedia.org/wiki/J%2F92 | ballast:  \n",
      "qid: Q97163534, url: https://en.wikipedia.org/wiki/Capri_Cyclone | ballast:  \n",
      "qid: Q97353749, url: https://en.wikipedia.org/wiki/New_York_30 | ballast: 8800 lb\n",
      "qid: Q97366862, url: https://en.wikipedia.org/wiki/Barnett_1400 | ballast:  \n",
      "qid: Q97402052, url: https://en.wikipedia.org/wiki/Cheshire_14 | ballast:  \n",
      "qid: Q1427358, url: https://en.wikipedia.org/wiki/Hobie_14 | ballast:  \n",
      "qid: Q97585806, url: https://en.wikipedia.org/wiki/Trac_14 | ballast:  \n",
      "qid: Q97656865, url: https://en.wikipedia.org/wiki/Phantom_14 | ballast:  \n",
      "qid: Q97704143, url: https://en.wikipedia.org/wiki/Phantom_14_%28catamaran%29 | ballast:  \n",
      "qid: Q97703992, url: https://en.wikipedia.org/wiki/Phantom_16_%28catamaran%29 | ballast:  \n",
      "qid: Q97703952, url: https://en.wikipedia.org/wiki/DC%E2%80%9014_Phantom | ballast:  \n",
      "qid: Q97738491, url: https://en.wikipedia.org/wiki/Shearwater_III | ballast:  \n",
      "qid: Q97738169, url: https://en.wikipedia.org/wiki/Flying_Phantom_Elite | ballast:  \n",
      "qid: Q97738171, url: https://en.wikipedia.org/wiki/Flying_Phantom_Essentiel | ballast:  \n",
      "qid: Q97792745, url: https://en.wikipedia.org/wiki/Nacra_20 | ballast:  \n",
      "qid: Q97957194, url: https://en.wikipedia.org/wiki/Hunter_25-2 | ballast: 1309 lb\n",
      "qid: Q98078223, url: https://en.wikipedia.org/wiki/Nacra_5.2 | ballast:  \n",
      "qid: Q98098926, url: https://en.wikipedia.org/wiki/Rascal_14 | ballast:  \n",
      "qid: Q98098804, url: https://en.wikipedia.org/wiki/Dolphin_15_Senior | ballast:  \n"
     ]
    },
    {
     "name": "stderr",
     "output_type": "stream",
     "text": [
      "Retrieving 50 pages from wikipedia:en.\n"
     ]
    },
    {
     "name": "stdout",
     "output_type": "stream",
     "text": [
      "qid: Q98139858, url: https://en.wikipedia.org/wiki/Skipjack_15 | ballast:  \n",
      "qid: Q104846768, url: https://en.wikipedia.org/wiki/Drascombe_Scaffie | ballast:  \n",
      "qid: Q104847387, url: https://en.wikipedia.org/wiki/Designers_Choice | ballast:  \n",
      "qid: Q104850551, url: https://en.wikipedia.org/wiki/US1 | ballast:  \n",
      "qid: Q98541075, url: https://en.wikipedia.org/wiki/IQFoil | ballast:  \n",
      "qid: Q98690649, url: https://en.wikipedia.org/wiki/Herreshoff_Bull%27s_Eye | ballast: 750 lb\n",
      "qid: Q98642753, url: https://en.wikipedia.org/wiki/AMF_Apollo_16 | ballast:  \n",
      "qid: Q98690544, url: https://en.wikipedia.org/wiki/Cygnus_20 | ballast: 140 lb\n",
      "qid: Q104853563, url: https://en.wikipedia.org/wiki/Balboa_16 | ballast: 400 lb\n",
      "qid: Q104854307, url: https://en.wikipedia.org/wiki/Laguna_16 | ballast: 400 lb\n",
      "qid: Q104855089, url: https://en.wikipedia.org/wiki/Isotope_%28catamaran%29 | ballast:  \n",
      "qid: Q104855244, url: https://en.wikipedia.org/wiki/Leeward_16 | ballast:  \n",
      "qid: Q99130329, url: https://en.wikipedia.org/wiki/Eagle_38 | ballast: 2976 lb\n",
      "qid: Q99095614, url: https://en.wikipedia.org/wiki/Rebel_16 | ballast: 110 lb\n",
      "qid: Q99308704, url: https://en.wikipedia.org/wiki/Seaward_22 | ballast: 750 lb\n",
      "qid: Q104856663, url: https://en.wikipedia.org/wiki/Precision_16 | ballast:  \n",
      "qid: Q99373496, url: https://en.wikipedia.org/wiki/Seaward_25 | ballast: 1200 lb\n",
      "qid: Q104858026, url: https://en.wikipedia.org/wiki/G-Cat_5.0 | ballast:  \n",
      "qid: Q104858028, url: https://en.wikipedia.org/wiki/G-Cat_5.7 | ballast:  \n",
      "qid: Q104858203, url: https://en.wikipedia.org/wiki/Dolphin_17 | ballast:  \n",
      "qid: Q99789168, url: https://en.wikipedia.org/wiki/Beneteau_First_Class_10 | ballast: 2450 lb\n",
      "qid: Q104860619, url: https://en.wikipedia.org/wiki/Cape_Cod_Cat | ballast: 500 lb\n",
      "qid: Q104902010, url: https://en.wikipedia.org/wiki/Marsh_Hen | ballast:  \n",
      "qid: Q104860987, url: https://en.wikipedia.org/wiki/Vagabond_17 | ballast: 345 lb\n",
      "qid: Q104861227, url: https://en.wikipedia.org/wiki/Holder_17 | ballast: 325 lb\n",
      "qid: Q104861437, url: https://en.wikipedia.org/wiki/Buzzards_Bay_14 | ballast: 800 lb\n",
      "qid: Q104861692, url: https://en.wikipedia.org/wiki/Ideal_18 | ballast: 700 lb\n",
      "qid: Q100319672, url: https://en.wikipedia.org/wiki/Hampton_One-Design | ballast:  \n",
      "qid: Q104863675, url: https://en.wikipedia.org/wiki/Mercury_18 | ballast: 635 lb\n",
      "qid: Q100437132, url: https://en.wikipedia.org/wiki/Cape_Cod_Mercury_15 | ballast: 200 lb\n",
      "qid: Q100499593, url: https://en.wikipedia.org/wiki/Prindle_18 | ballast:  \n",
      "qid: Q100499627, url: https://en.wikipedia.org/wiki/Prindle_18-2 | ballast:  \n",
      "qid: Q100617899, url: https://en.wikipedia.org/wiki/Windrose_5.5 | ballast: 500 lb\n",
      "qid: Q104864811, url: https://en.wikipedia.org/wiki/Victoria_18 | ballast: 550 lb\n",
      "qid: Q104865199, url: https://en.wikipedia.org/wiki/Typhoon_18 | ballast: 900 lb\n",
      "qid: Q104870322, url: https://en.wikipedia.org/wiki/Impulse_21 | ballast: 600 lb\n",
      "qid: Q104870766, url: https://en.wikipedia.org/wiki/Atlantic_City_catboat | ballast: 2200 lb\n",
      "qid: Q104871502, url: https://en.wikipedia.org/wiki/Dovekie_21 | ballast:  \n",
      "qid: Q104872025, url: https://en.wikipedia.org/wiki/Balboa_24 | ballast: 900 lb\n",
      "qid: Q104873546, url: https://en.wikipedia.org/wiki/Raven_%28sailboat%29 | ballast: none \n",
      "qid: Q104875001, url: https://en.wikipedia.org/wiki/Stuart_Knockabout | ballast: 2400 lb\n",
      "qid: Q104876354, url: https://en.wikipedia.org/wiki/International_210 | ballast: 1145 lb\n",
      "qid: Q10404345, url: https://en.wikipedia.org/wiki/Albin_57 | ballast: 526 lb\n",
      "qid: Q104878315, url: https://en.wikipedia.org/wiki/Stratus_36 | ballast: 4960 lb\n",
      "qid: Q103824234, url: https://en.wikipedia.org/wiki/Albin_79 | ballast: 1653 lb\n",
      "qid: Q103982535, url: https://en.wikipedia.org/wiki/Albin_82_MS | ballast: 1984 lb\n",
      "qid: Q104014795, url: https://en.wikipedia.org/wiki/Accent_26 | ballast: 1962 lb\n",
      "qid: Q104879721, url: https://en.wikipedia.org/wiki/Ballad_30 | ballast: 3417 lb\n",
      "qid: Q10404356, url: https://en.wikipedia.org/wiki/Nova_33 | ballast: 3868 lb\n",
      "qid: Q104880092, url: https://en.wikipedia.org/wiki/Alacrity_19 | ballast: 480 lb\n"
     ]
    },
    {
     "name": "stderr",
     "output_type": "stream",
     "text": [
      "Retrieving 50 pages from wikipedia:en.\n"
     ]
    },
    {
     "name": "stdout",
     "output_type": "stream",
     "text": [
      "qid: Q104145305, url: https://en.wikipedia.org/wiki/Scampi_30 | ballast: 2778 lb\n",
      "qid: Q104144429, url: https://en.wikipedia.org/wiki/Alerion_Express_19 | ballast: 300 lb\n",
      "qid: Q104880418, url: https://en.wikipedia.org/wiki/Singoalla_34 | ballast: 3750 lb\n",
      "qid: Q104188765, url: https://en.wikipedia.org/wiki/Viggen_23 | ballast: 1323 lb\n",
      "qid: Q10667096, url: https://en.wikipedia.org/wiki/Shipman_28 | ballast: 2667 lb\n",
      "qid: Q104880824, url: https://en.wikipedia.org/wiki/Albin_7.8 | ballast: 2094 lb\n",
      "qid: Q104880832, url: https://en.wikipedia.org/wiki/Alpha_29 | ballast: 3042 lb\n",
      "qid: Q104880847, url: https://en.wikipedia.org/wiki/Delta_31 | ballast: 3505 lb\n",
      "qid: Q104881060, url: https://en.wikipedia.org/wiki/Allegra_24 | ballast: 2200 lb\n",
      "qid: Q104881584, url: https://en.wikipedia.org/wiki/Greenwich_24 | ballast: 1500 lb\n",
      "qid: Q104881672, url: https://en.wikipedia.org/wiki/Alegria_67 | ballast: none \n",
      "qid: Q104881845, url: https://en.wikipedia.org/wiki/AMF_2100 | ballast: 850 lb\n",
      "qid: Q104290513, url: https://en.wikipedia.org/wiki/Archambault_A13 | ballast:  \n",
      "qid: Q104835959, url: https://en.wikipedia.org/wiki/Archambault_A27 | ballast: 1764 lb\n",
      "qid: Q104399097, url: https://en.wikipedia.org/wiki/Archambault_A31 | ballast: 2976 lb\n",
      "qid: Q104835262, url: https://en.wikipedia.org/wiki/Archambault_A35 | ballast: 4387 lb\n",
      "qid: Q104834532, url: https://en.wikipedia.org/wiki/Archambault_A35R | ballast: 4630 lb\n",
      "qid: Q104834171, url: https://en.wikipedia.org/wiki/Archambault_A40RC | ballast: 6834 lb\n",
      "qid: Q104834151, url: https://en.wikipedia.org/wiki/Archambault_A40 | ballast: 5512 lb\n",
      "qid: Q104543351, url: https://en.wikipedia.org/wiki/Archambault_Grand_Surprise | ballast: 2315 lb\n",
      "qid: Q104542442, url: https://en.wikipedia.org/wiki/Surprise_25 | ballast: 1102 lb\n",
      "qid: Q104829866, url: https://en.wikipedia.org/wiki/Suspens | ballast: 1830 lb\n",
      "qid: Q3494254, url: https://en.wikipedia.org/wiki/Sprinto | ballast: 441 lb\n",
      "qid: Q104829529, url: https://en.wikipedia.org/wiki/Sprint_95 | ballast: 1764 lb\n",
      "qid: Q104823034, url: https://en.wikipedia.org/wiki/Archambault_Coco | ballast: 992 lb\n",
      "qid: Q104822291, url: https://en.wikipedia.org/wiki/Archambault_Bagheera | ballast: 463 lb\n",
      "qid: Q104822249, url: https://en.wikipedia.org/wiki/Brick_%28keelboat%29 | ballast: 1543 lb\n",
      "qid: Q104821899, url: https://en.wikipedia.org/wiki/Atlante_%28keelboat%29 | ballast:  \n",
      "qid: Q104902894, url: https://en.wikipedia.org/wiki/Amphibi-Con_25 | ballast: 1100 lb\n",
      "qid: Q104903111, url: https://en.wikipedia.org/wiki/Weekender_24 | ballast: 1120 lb\n",
      "qid: Q105042346, url: https://en.wikipedia.org/wiki/Antrim_20 | ballast: 750 lb\n",
      "qid: Q105043856, url: https://en.wikipedia.org/wiki/Aquarius_23 | ballast: 815 lb\n",
      "qid: Q105044237, url: https://en.wikipedia.org/wiki/Aquarius_21 | ballast: 665 lb\n",
      "qid: Q105044468, url: https://en.wikipedia.org/wiki/Aquarius_24_Pilot_Cutter | ballast: 3200 lb\n",
      "qid: Q105063239, url: https://en.wikipedia.org/wiki/Balboa_20 | ballast: 450 lb\n",
      "qid: Q105063572, url: https://en.wikipedia.org/wiki/Balboa_22 | ballast: 600 lb\n",
      "qid: Q105081776, url: https://en.wikipedia.org/wiki/Baymaster_18 | ballast: 150 lb\n",
      "qid: Q105082067, url: https://en.wikipedia.org/wiki/Bay_Hen_21 | ballast: none \n",
      "qid: Q105085794, url: https://en.wikipedia.org/wiki/Beneteau_First_210 | ballast: 772 lb\n",
      "qid: Q105095521, url: https://en.wikipedia.org/wiki/Blazer_23 | ballast: 900 lb\n",
      "qid: Q105102609, url: https://en.wikipedia.org/wiki/Blue_Water_24 | ballast: 3000 lb\n",
      "qid: Q105123572, url: https://en.wikipedia.org/wiki/Bluejacket_MS_23 | ballast: 700 lb\n",
      "qid: Q105163400, url: https://en.wikipedia.org/wiki/Contest_25_OC | ballast: 1510 lb\n",
      "qid: Q105200373, url: https://en.wikipedia.org/wiki/Bremer_25 | ballast: 1600 lb\n",
      "qid: Q105226877, url: https://en.wikipedia.org/wiki/Bridges_Point_24 | ballast: 2100 lb\n",
      "qid: Q105274559, url: https://en.wikipedia.org/wiki/Bristol_Caravel_22 | ballast: 1150 lb\n",
      "qid: Q105320213, url: https://en.wikipedia.org/wiki/Bristol_Corsair_24 | ballast: 3000 lb\n",
      "qid: Q105320770, url: https://en.wikipedia.org/wiki/Buccaneer_210 | ballast: 900 lb\n",
      "qid: Q105334538, url: https://en.wikipedia.org/wiki/Buccaneer_240 | ballast: 1250 lb\n",
      "qid: Q105031017, url: https://en.wikipedia.org/wiki/Foncia_2_%28yacht%29 | ballast: Water Ballast \n"
     ]
    },
    {
     "name": "stderr",
     "output_type": "stream",
     "text": [
      "Retrieving 50 pages from wikipedia:en.\n"
     ]
    },
    {
     "name": "stdout",
     "output_type": "stream",
     "text": [
      "qid: Q105360264, url: https://en.wikipedia.org/wiki/Cal_21 | ballast: 360 lb\n",
      "qid: Q105393819, url: https://en.wikipedia.org/wiki/Cal_22 | ballast: 775 lb\n",
      "qid: Q105082255, url: https://en.wikipedia.org/wiki/Cal_24 | ballast: 1000 lb\n",
      "qid: Q105438874, url: https://en.wikipedia.org/wiki/Cal_2-24 | ballast: 1400 lb\n",
      "qid: Q105453339, url: https://en.wikipedia.org/wiki/Cal_3-24 | ballast: 1175 lb\n",
      "qid: Q105474389, url: https://en.wikipedia.org/wiki/Cal_T%2F4 | ballast: 2000 lb\n",
      "qid: Q105561953, url: https://en.wikipedia.org/wiki/Com-Pac_Legacy | ballast: 400 lb\n",
      "qid: Q105580848, url: https://en.wikipedia.org/wiki/Marlin_23 | ballast: 1400 lb\n",
      "qid: Q105333135, url: https://en.wikipedia.org/wiki/Cape_Dory_25 | ballast: 1700 lb\n",
      "qid: Q105356576, url: https://en.wikipedia.org/wiki/Cape_Dory_25D | ballast: 2050 lb\n",
      "qid: Q105626394, url: https://en.wikipedia.org/wiki/Typhoon_Senior | ballast: 1700 lb\n",
      "qid: Q105638481, url: https://en.wikipedia.org/wiki/Capri_16 | ballast: 425 lb\n",
      "qid: Q104233882, url: https://en.wikipedia.org/wiki/B%C3%A9n%C3%A9teau_Figaro_2 | ballast: 1100 kg\n",
      "qid: Q104233883, url: https://en.wikipedia.org/wiki/B%C3%A9n%C3%A9teau_Figaro_3 | ballast: 1111 kg\n",
      "qid: Q105472971, url: https://en.wikipedia.org/wiki/Capri_26 | ballast: 1900 lb\n",
      "qid: Q105706817, url: https://en.wikipedia.org/wiki/Captiva_240 | ballast: 1000 lb\n",
      "qid: Q105721345, url: https://en.wikipedia.org/wiki/Chrysler_20 | ballast: 810 lb\n",
      "qid: Q105730583, url: https://en.wikipedia.org/wiki/Chrysler_22 | ballast:  \n",
      "qid: Q105742651, url: https://en.wikipedia.org/wiki/Clipper_21 | ballast: 410 lb\n",
      "qid: Q105753294, url: https://en.wikipedia.org/wiki/Clipper_23 | ballast: 500 lb\n",
      "qid: Q105760386, url: https://en.wikipedia.org/wiki/Columbia_7.6 | ballast: 1500 lb\n",
      "qid: Q105605578, url: https://en.wikipedia.org/wiki/Columbia_22 | ballast: 1100 lb\n",
      "qid: Q105625313, url: https://en.wikipedia.org/wiki/Columbia_T-23 | ballast: 810 lb\n",
      "qid: Q105834544, url: https://en.wikipedia.org/wiki/Com-Pac_23 | ballast: 1340 lb\n",
      "qid: Q105847233, url: https://en.wikipedia.org/wiki/Com-Pac_Eclipse | ballast: 700 lb\n",
      "qid: Q105973057, url: https://en.wikipedia.org/wiki/Com-Pac_Horizon_Cat | ballast: 600 lb\n",
      "qid: Q105973007, url: https://en.wikipedia.org/wiki/Com-Pac_Sun_Cat | ballast: 200 lb\n",
      "qid: Q105986107, url: https://en.wikipedia.org/wiki/Companion_21 | ballast: {{convert|1,000|lb|kg|0|abbr=on}} \n",
      "qid: Q105759216, url: https://en.wikipedia.org/wiki/Corinthian_19 | ballast: 1100 lb\n",
      "qid: Q106040781, url: https://en.wikipedia.org/wiki/Cornish_Crabber_17 | ballast: 217 lb\n",
      "qid: Q106075875, url: https://en.wikipedia.org/wiki/Cornish_Crabber_24 | ballast: 600 lb\n",
      "qid: Q106103921, url: https://en.wikipedia.org/wiki/Coronado_23 | ballast: 1100 lb\n",
      "qid: Q106153607, url: https://en.wikipedia.org/wiki/Coronado_25 | ballast: 2150 lb\n",
      "qid: Q106179763, url: https://en.wikipedia.org/wiki/D%26M_22 | ballast: 1000 lb\n",
      "qid: Q106201884, url: https://en.wikipedia.org/wiki/Dehler_22 | ballast: 880 lb\n",
      "qid: Q106238914, url: https://en.wikipedia.org/wiki/Dehler_25 | ballast: 1488 lb\n",
      "qid: Q106254045, url: https://en.wikipedia.org/wiki/Dufour_24 | ballast: 1170 lb\n",
      "qid: Q106282796, url: https://en.wikipedia.org/wiki/Eastsail_25 | ballast: 2300 lb\n",
      "qid: Q106298642, url: https://en.wikipedia.org/wiki/Eastward_Ho_24 | ballast: 3000 lb\n",
      "qid: Q106311351, url: https://en.wikipedia.org/wiki/Elite_25 | ballast: 1430 lb\n",
      "qid: Q106322522, url: https://en.wikipedia.org/wiki/Ensenada_20 | ballast: 550 lb\n",
      "qid: Q106363189, url: https://en.wikipedia.org/wiki/Ericson_23-1 | ballast: 1300 lb\n",
      "qid: Q106363225, url: https://en.wikipedia.org/wiki/Ericson_23-2 | ballast: 1200 lb\n",
      "qid: Q106372082, url: https://en.wikipedia.org/wiki/Ericson_25 | ballast: 2500 lb\n",
      "qid: Q106372154, url: https://en.wikipedia.org/wiki/Ericson_25%2B | ballast: 2000 lb\n",
      "qid: Q106436032, url: https://en.wikipedia.org/wiki/ETAP_20 | ballast: 441 lb\n",
      "qid: Q106436038, url: https://en.wikipedia.org/wiki/ETAP_22i | ballast: 518 lb\n",
      "qid: Q106436034, url: https://en.wikipedia.org/wiki/ETAP_23 | ballast: 1036 lb\n",
      "qid: Q106436044, url: https://en.wikipedia.org/wiki/ETAP_23iL | ballast: 1035 lb\n"
     ]
    },
    {
     "name": "stderr",
     "output_type": "stream",
     "text": [
      "Retrieving 37 pages from wikipedia:en.\n"
     ]
    },
    {
     "name": "stdout",
     "output_type": "stream",
     "text": [
      "qid: Q106436039, url: https://en.wikipedia.org/wiki/ETAP_28i | ballast: 1808 lb\n",
      "qid: Q106436037, url: https://en.wikipedia.org/wiki/ETAP_30 | ballast: 3032 lb\n",
      "qid: Q106436046, url: https://en.wikipedia.org/wiki/ETAP_30i | ballast: 2425 lb\n",
      "qid: Q106436042, url: https://en.wikipedia.org/wiki/ETAP_32i | ballast: 2866 lb\n",
      "qid: Q106436048, url: https://en.wikipedia.org/wiki/ETAP_39s | ballast: 4960 lb\n",
      "qid: Q106436031, url: https://en.wikipedia.org/wiki/ETAP_22 | ballast: 1213 lb\n",
      "qid: Q106522259, url: https://en.wikipedia.org/wiki/ETAP_28 | ballast: 2557 lb\n",
      "qid: Q106436035, url: https://en.wikipedia.org/wiki/ETAP_23i | ballast: 1036 lb\n",
      "qid: Q106436036, url: https://en.wikipedia.org/wiki/ETAP_26 | ballast: 1568 lb\n",
      "qid: Q106436041, url: https://en.wikipedia.org/wiki/ETAP_38i | ballast: 4850 lb\n",
      "qid: Q106436043, url: https://en.wikipedia.org/wiki/ETAP_35i | ballast: 3836 lb\n",
      "qid: Q106436047, url: https://en.wikipedia.org/wiki/ETAP_21i | ballast: 772 lb\n",
      "qid: Q106436045, url: https://en.wikipedia.org/wiki/ETAP_26i | ballast: 1433 lb\n",
      "qid: Q106374474, url: https://en.wikipedia.org/wiki/ETAP_34s | ballast: 3200 lb\n",
      "qid: Q106436049, url: https://en.wikipedia.org/wiki/ETAP_24i | ballast: 1146 lb\n",
      "qid: Q106436050, url: https://en.wikipedia.org/wiki/ETAP_32s | ballast: 2425 lb\n",
      "qid: Q106436051, url: https://en.wikipedia.org/wiki/ETAP_37s | ballast: 4409 lb\n",
      "qid: Q106436052, url: https://en.wikipedia.org/wiki/ETAP_26s | ballast: 1101 lb\n",
      "qid: Q106436053, url: https://en.wikipedia.org/wiki/ETAP_28s | ballast: 2579 lb\n",
      "qid: Q106436055, url: https://en.wikipedia.org/wiki/ETAP_48Ds | ballast: 9259 lb\n",
      "qid: Q106436056, url: https://en.wikipedia.org/wiki/ETAP_30cq | ballast: 2579 lb\n",
      "qid: Q106609749, url: https://en.wikipedia.org/wiki/Evelyn_25 | ballast: 1100 lb\n",
      "qid: Q106612465, url: https://en.wikipedia.org/wiki/Fisher_25 | ballast: 4705 lb\n",
      "qid: Q106612466, url: https://en.wikipedia.org/wiki/Freedom_21 | ballast: 500 lb\n",
      "qid: Q106612467, url: https://en.wikipedia.org/wiki/Freedom_24 | ballast: 1350 lb\n",
      "qid: Q106612468, url: https://en.wikipedia.org/wiki/Gladiator_24 | ballast: 2050 lb\n",
      "qid: Q106612469, url: https://en.wikipedia.org/wiki/Gloucester_19 | ballast: 550 lb\n",
      "qid: Q106612470, url: https://en.wikipedia.org/wiki/Gloucester_22 | ballast: 800 lb\n",
      "qid: Q106612471, url: https://en.wikipedia.org/wiki/Lockley-Newport_LN-23 | ballast: 1000 lb\n",
      "qid: Q106581119, url: https://en.wikipedia.org/wiki/Mobjack_%28dinghy%29 | ballast:  \n",
      "qid: Q106587830, url: https://en.wikipedia.org/wiki/Flipper_%28US_dinghy%29 | ballast:  \n",
      "qid: Q10496824, url: https://en.wikipedia.org/wiki/Flipper_%28dinghy%29 | ballast:  \n",
      "qid: Q106612472, url: https://en.wikipedia.org/wiki/Surprise_15 | ballast:  \n",
      "qid: Q106612473, url: https://en.wikipedia.org/wiki/Bullet_14 | ballast:  \n",
      "qid: Q106612474, url: https://en.wikipedia.org/wiki/Newport_212 | ballast: 400 lb\n",
      "no qid\n",
      "qid: no qid, url: https://en.wikipedia.org/wiki/Holiday_20 | ballast:  \n",
      "no qid\n",
      "qid: no qid, url: https://en.wikipedia.org/wiki/Newport_17 | ballast: 235 lb\n"
     ]
    }
   ],
   "source": [
    "template_name = \"Infobox_sailboat_specifications\"\n",
    "field_name = \"ballast\"\n",
    "\n",
    "#template_name = \"Infobox sailing yacht\"\n",
    "#field_name = \"length\"\n",
    "\n",
    "filename = template_name + \".\" + field_name + \".csv\"\n",
    "tmpl_gen = list_template_usage(site, template_name)\n",
    "template_data = extract_template_data(tmpl_gen, template_name, field_name)"
   ]
  },
  {
   "cell_type": "code",
   "execution_count": 8,
   "metadata": {},
   "outputs": [],
   "source": [
    "list2csv(filename, template_data)"
   ]
  },
  {
   "cell_type": "markdown",
   "metadata": {},
   "source": [
    "# Push to Wikidata"
   ]
  },
  {
   "cell_type": "code",
   "execution_count": 9,
   "metadata": {},
   "outputs": [],
   "source": [
    "#https://www.wikidata.org/wiki/Wikidata:Pywikibot_-_Python_3_Tutorial/Setting_statements\n",
    "#Setting statements\n",
    "# -*- coding: utf-8  -*-\n",
    "import pywikibot\n",
    "\"\"\"\n",
    "First check if P2373 already exists for Q15935. If not add claim P2373 with the string 'Kanye_west'.\n",
    "This works for claims that only allow a single value.\n",
    "\"\"\"\n",
    "site_data = pywikibot.Site(\"wikidata\", \"wikidata\")\n",
    "repo_data = site_data.data_repository()\n",
    "item_data = pywikibot.ItemPage(repo_data, \"Q97179551\")\n",
    "claims = item_data.get('claims') #Get all the existing claims\n",
    "item_data.get() #Fetch all page data, and cache it."
   ]
  },
  {
   "cell_type": "code",
   "execution_count": 10,
   "metadata": {},
   "outputs": [
    {
     "data": {
      "text/plain": [
       "<class 'pywikibot.page._collections.ClaimCollection'>({'P2671': [Claim.fromJSON(DataSite(\"wikidata\", \"wikidata\"), {'mainsnak': {'snaktype': 'value', 'property': 'P2671', 'datatype': 'external-id', 'datavalue': {'value': '/g/11jbgj2p09', 'type': 'string'}}, 'type': 'statement', 'id': 'Q97179551$79DCF988-9F42-447C-9D9D-2F95BEB298AF', 'rank': 'normal'})], 'P31': [Claim.fromJSON(DataSite(\"wikidata\", \"wikidata\"), {'mainsnak': {'snaktype': 'value', 'property': 'P31', 'datatype': 'wikibase-item', 'datavalue': {'value': {'entity-type': 'item', 'numeric-id': 106179098}, 'type': 'wikibase-entityid'}}, 'type': 'statement', 'id': 'Q97179551$11de689a-4d8e-9ea0-ff6b-2dc203fe3e21', 'rank': 'normal', 'references': [{'snaks': {'P854': [{'snaktype': 'value', 'property': 'P854', 'datatype': 'url', 'datavalue': {'value': 'https://jboats.com/j92s-tech-specs', 'type': 'string'}}]}, 'snaks-order': ['P854'], 'hash': '4a60fed570bf741fc8e5ea00015e6c537aab0773'}]})], 'P2043': [Claim.fromJSON(DataSite(\"wikidata\", \"wikidata\"), {'mainsnak': {'snaktype': 'value', 'property': 'P2043', 'datatype': 'quantity', 'datavalue': {'value': {'amount': '+9.14', 'upperBound': None, 'lowerBound': None, 'unit': 'http://www.wikidata.org/entity/Q11573'}, 'type': 'quantity'}}, 'type': 'statement', 'id': 'Q97179551$2e81e555-4f24-60d3-5a8d-0d2763735c2c', 'rank': 'normal', 'qualifiers': {'P642': [{'snaktype': 'value', 'property': 'P642', 'datatype': 'wikibase-item', 'datavalue': {'value': {'entity-type': 'item', 'numeric-id': 2358152}, 'type': 'wikibase-entityid'}, 'hash': '3205b0bfda9eeaf42dfdbad5469979be57b65ba2'}]}, 'qualifiers-order': ['P642'], 'references': [{'snaks': {'P854': [{'snaktype': 'value', 'property': 'P854', 'datatype': 'url', 'datavalue': {'value': 'https://jboats.com/j92s-tech-specs', 'type': 'string'}}], 'P813': [{'snaktype': 'value', 'property': 'P813', 'datatype': 'time', 'datavalue': {'value': {'time': '+00000002021-03-30T00:00:00Z', 'precision': 11, 'after': 0, 'before': 0, 'timezone': 0, 'calendarmodel': 'http://www.wikidata.org/entity/Q1985727'}, 'type': 'time'}}]}, 'snaks-order': ['P854', 'P813'], 'hash': 'b0a5d8e227e77ebb2aa5575db62ab7b4bd533f53'}]}), Claim.fromJSON(DataSite(\"wikidata\", \"wikidata\"), {'mainsnak': {'snaktype': 'value', 'property': 'P2043', 'datatype': 'quantity', 'datavalue': {'value': {'amount': '+8.13', 'upperBound': None, 'lowerBound': None, 'unit': 'http://www.wikidata.org/entity/Q11573'}, 'type': 'quantity'}}, 'type': 'statement', 'id': 'Q97179551$245c8e89-447e-027c-07fc-12b487be1d95', 'rank': 'normal', 'qualifiers': {'P642': [{'snaktype': 'value', 'property': 'P642', 'datatype': 'wikibase-item', 'datavalue': {'value': {'entity-type': 'item', 'numeric-id': 1817392}, 'type': 'wikibase-entityid'}, 'hash': '7117e3287674b077c6acf812964dc91018179fbf'}]}, 'qualifiers-order': ['P642'], 'references': [{'snaks': {'P854': [{'snaktype': 'value', 'property': 'P854', 'datatype': 'url', 'datavalue': {'value': 'https://jboats.com/j92s-tech-specs', 'type': 'string'}}], 'P813': [{'snaktype': 'value', 'property': 'P813', 'datatype': 'time', 'datavalue': {'value': {'time': '+00000002021-03-30T00:00:00Z', 'precision': 11, 'after': 0, 'before': 0, 'timezone': 0, 'calendarmodel': 'http://www.wikidata.org/entity/Q1985727'}, 'type': 'time'}}]}, 'snaks-order': ['P854', 'P813'], 'hash': 'b0a5d8e227e77ebb2aa5575db62ab7b4bd533f53'}]})], 'P18': [Claim.fromJSON(DataSite(\"wikidata\", \"wikidata\"), {'mainsnak': {'snaktype': 'value', 'property': 'P18', 'datatype': 'commonsMedia', 'datavalue': {'value': 'J-92s.jpg', 'type': 'string'}}, 'type': 'statement', 'id': 'Q97179551$5f115e7f-403c-d219-cfb2-121cf7dfc570', 'rank': 'normal', 'references': [{'snaks': {'P4656': [{'snaktype': 'value', 'property': 'P4656', 'datatype': 'url', 'datavalue': {'value': 'https://commons.wikimedia.org/wiki/File:J-92s.jpg', 'type': 'string'}}]}, 'snaks-order': ['P4656'], 'hash': '356c695f78365614b30b71508dd71b6127763b78'}]})], 'P5962': [Claim.fromJSON(DataSite(\"wikidata\", \"wikidata\"), {'mainsnak': {'snaktype': 'value', 'property': 'P5962', 'datatype': 'commonsMedia', 'datavalue': {'value': 'J92s sail emblem.png', 'type': 'string'}}, 'type': 'statement', 'id': 'Q97179551$5ec6585b-4a42-1912-eb0e-7bbdcf71242b', 'rank': 'normal', 'references': [{'snaks': {'P854': [{'snaktype': 'value', 'property': 'P854', 'datatype': 'url', 'datavalue': {'value': 'https://www.jowners.org/images/docs/j92s/manual%20J92S%20GB.pdf', 'type': 'string'}}]}, 'snaks-order': ['P854'], 'hash': '783c425663fe92f565cd28f58b57b8d79e46dcb1'}]})], 'P373': [Claim.fromJSON(DataSite(\"wikidata\", \"wikidata\"), {'mainsnak': {'snaktype': 'value', 'property': 'P373', 'datatype': 'string', 'datavalue': {'value': 'J/92s (keelboat)', 'type': 'string'}}, 'type': 'statement', 'id': 'Q97179551$b09f760c-42f8-302a-0428-5bbd0251ced7', 'rank': 'normal'})], 'P17': [Claim.fromJSON(DataSite(\"wikidata\", \"wikidata\"), {'mainsnak': {'snaktype': 'value', 'property': 'P17', 'datatype': 'wikibase-item', 'datavalue': {'value': {'entity-type': 'item', 'numeric-id': 142}, 'type': 'wikibase-entityid'}}, 'type': 'statement', 'id': 'Q97179551$300B83CE-4DBB-446D-875D-273DC7E0DF1A', 'rank': 'normal', 'references': [{'snaks': {'P854': [{'snaktype': 'value', 'property': 'P854', 'datatype': 'url', 'datavalue': {'value': 'https://www.jowners.org/images/docs/j92s/manual%20J92S%20GB.pdf', 'type': 'string'}}]}, 'snaks-order': ['P854'], 'hash': '783c425663fe92f565cd28f58b57b8d79e46dcb1'}]})], 'P571': [Claim.fromJSON(DataSite(\"wikidata\", \"wikidata\"), {'mainsnak': {'snaktype': 'value', 'property': 'P571', 'datatype': 'time', 'datavalue': {'value': {'time': '+00000002005-00-00T00:00:00Z', 'precision': 9, 'after': 0, 'before': 0, 'timezone': 0, 'calendarmodel': 'http://www.wikidata.org/entity/Q1985727'}, 'type': 'time'}}, 'type': 'statement', 'id': 'Q97179551$9ED0BFF1-AF89-45B5-AFFE-DFAFC8A16EB3', 'rank': 'normal', 'references': [{'snaks': {'P854': [{'snaktype': 'value', 'property': 'P854', 'datatype': 'url', 'datavalue': {'value': 'https://sailboatdata.com/sailboat/j92s', 'type': 'string'}}]}, 'snaks-order': ['P854'], 'hash': '4d651302039ad1d5728e11ef7083657efe5b8562'}]})], 'P279': [Claim.fromJSON(DataSite(\"wikidata\", \"wikidata\"), {'mainsnak': {'snaktype': 'value', 'property': 'P279', 'datatype': 'wikibase-item', 'datavalue': {'value': {'entity-type': 'item', 'numeric-id': 210223}, 'type': 'wikibase-entityid'}}, 'type': 'statement', 'id': 'Q97179551$c0c1ac5c-443a-d697-a627-0dedf490dd02', 'rank': 'normal', 'references': [{'snaks': {'P854': [{'snaktype': 'value', 'property': 'P854', 'datatype': 'url', 'datavalue': {'value': 'https://jboats.com/j92s-tech-specs', 'type': 'string'}}]}, 'snaks-order': ['P854'], 'hash': '4a60fed570bf741fc8e5ea00015e6c537aab0773'}]}), Claim.fromJSON(DataSite(\"wikidata\", \"wikidata\"), {'mainsnak': {'snaktype': 'value', 'property': 'P279', 'datatype': 'wikibase-item', 'datavalue': {'value': {'entity-type': 'item', 'numeric-id': 1999103}, 'type': 'wikibase-entityid'}}, 'type': 'statement', 'id': 'Q97179551$e1924075-43eb-3b2d-d93a-25c7debea270', 'rank': 'normal', 'references': [{'snaks': {'P854': [{'snaktype': 'value', 'property': 'P854', 'datatype': 'url', 'datavalue': {'value': 'https://jboats.com/j92s-tech-specs', 'type': 'string'}}]}, 'snaks-order': ['P854'], 'hash': '4a60fed570bf741fc8e5ea00015e6c537aab0773'}]}), Claim.fromJSON(DataSite(\"wikidata\", \"wikidata\"), {'mainsnak': {'snaktype': 'value', 'property': 'P279', 'datatype': 'wikibase-item', 'datavalue': {'value': {'entity-type': 'item', 'numeric-id': 474161}, 'type': 'wikibase-entityid'}}, 'type': 'statement', 'id': 'Q97179551$9a7d40cc-47b6-b26f-93b6-a7b32233a4a5', 'rank': 'normal', 'references': [{'snaks': {'P854': [{'snaktype': 'value', 'property': 'P854', 'datatype': 'url', 'datavalue': {'value': 'https://jboats.com/j92s-tech-specs', 'type': 'string'}}]}, 'snaks-order': ['P854'], 'hash': '4a60fed570bf741fc8e5ea00015e6c537aab0773'}]}), Claim.fromJSON(DataSite(\"wikidata\", \"wikidata\"), {'mainsnak': {'snaktype': 'value', 'property': 'P279', 'datatype': 'wikibase-item', 'datavalue': {'value': {'entity-type': 'item', 'numeric-id': 1307792}, 'type': 'wikibase-entityid'}}, 'type': 'statement', 'id': 'Q97179551$fe30e4c2-443a-40e5-ed73-63250cfcd75c', 'rank': 'normal'})], 'P176': [Claim.fromJSON(DataSite(\"wikidata\", \"wikidata\"), {'mainsnak': {'snaktype': 'value', 'property': 'P176', 'datatype': 'wikibase-item', 'datavalue': {'value': {'entity-type': 'item', 'numeric-id': 85770361}, 'type': 'wikibase-entityid'}}, 'type': 'statement', 'id': 'Q97179551$f1945a23-440b-d0b9-fa85-51a40b69c3dd', 'rank': 'normal', 'references': [{'snaks': {'P854': [{'snaktype': 'value', 'property': 'P854', 'datatype': 'url', 'datavalue': {'value': 'https://jboats.com/j92s', 'type': 'string'}}]}, 'snaks-order': ['P854'], 'hash': '1e0f2ad9edfe8594ebd13fde07ff706eb66b03df'}]})], 'P2049': [Claim.fromJSON(DataSite(\"wikidata\", \"wikidata\"), {'mainsnak': {'snaktype': 'value', 'property': 'P2049', 'datatype': 'quantity', 'datavalue': {'value': {'amount': '+3.05', 'upperBound': None, 'lowerBound': None, 'unit': 'http://www.wikidata.org/entity/Q11573'}, 'type': 'quantity'}}, 'type': 'statement', 'id': 'Q97179551$c20176fe-4326-28a2-72ec-1d6081ce3d6a', 'rank': 'normal', 'qualifiers': {'P642': [{'snaktype': 'value', 'property': 'P642', 'datatype': 'wikibase-item', 'datavalue': {'value': {'entity-type': 'item', 'numeric-id': 2376482}, 'type': 'wikibase-entityid'}, 'hash': '65117a4305f68876e48c6f2222b61c784f9d6ad9'}]}, 'qualifiers-order': ['P642'], 'references': [{'snaks': {'P854': [{'snaktype': 'value', 'property': 'P854', 'datatype': 'url', 'datavalue': {'value': 'https://jboats.com/j92s-tech-specs', 'type': 'string'}}], 'P813': [{'snaktype': 'value', 'property': 'P813', 'datatype': 'time', 'datavalue': {'value': {'time': '+00000002021-03-30T00:00:00Z', 'precision': 11, 'after': 0, 'before': 0, 'timezone': 0, 'calendarmodel': 'http://www.wikidata.org/entity/Q1985727'}, 'type': 'time'}}]}, 'snaks-order': ['P854', 'P813'], 'hash': 'b0a5d8e227e77ebb2aa5575db62ab7b4bd533f53'}]})], 'P516': [Claim.fromJSON(DataSite(\"wikidata\", \"wikidata\"), {'mainsnak': {'snaktype': 'value', 'property': 'P516', 'datatype': 'wikibase-item', 'datavalue': {'value': {'entity-type': 'item', 'numeric-id': 106087427}, 'type': 'wikibase-entityid'}}, 'type': 'statement', 'id': 'Q97179551$69224ea1-4a96-018e-bec3-ed6656801d2c', 'rank': 'normal', 'qualifiers': {'P1114': [{'snaktype': 'value', 'property': 'P1114', 'datatype': 'quantity', 'datavalue': {'value': {'amount': '+1', 'upperBound': None, 'lowerBound': None, 'unit': '1'}, 'type': 'quantity'}, 'hash': '9d780ee198074963faf438f66fe68ee4315db6dd'}]}, 'qualifiers-order': ['P1114'], 'references': [{'snaks': {'P854': [{'snaktype': 'value', 'property': 'P854', 'datatype': 'url', 'datavalue': {'value': 'https://www.jowners.org/images/docs/j92s/manual%20J92S%20GB.pdf', 'type': 'string'}}], 'P813': [{'snaktype': 'value', 'property': 'P813', 'datatype': 'time', 'datavalue': {'value': {'time': '+00000002021-03-29T00:00:00Z', 'precision': 11, 'after': 0, 'before': 0, 'timezone': 0, 'calendarmodel': 'http://www.wikidata.org/entity/Q1985727'}, 'type': 'time'}}]}, 'snaks-order': ['P854', 'P813'], 'hash': '60dc19ce18a1fcd413f958a0644c889d20b43dd0'}]})], 'P2048': [Claim.fromJSON(DataSite(\"wikidata\", \"wikidata\"), {'mainsnak': {'snaktype': 'value', 'property': 'P2048', 'datatype': 'quantity', 'datavalue': {'value': {'amount': '+1.90', 'upperBound': None, 'lowerBound': None, 'unit': 'http://www.wikidata.org/entity/Q11573'}, 'type': 'quantity'}}, 'type': 'statement', 'id': 'Q97179551$c4b2ca85-41d3-6c7b-9cb3-2a3ea783c05b', 'rank': 'preferred', 'qualifiers': {'P642': [{'snaktype': 'value', 'property': 'P642', 'datatype': 'wikibase-item', 'datavalue': {'value': {'entity-type': 'item', 'numeric-id': 244777}, 'type': 'wikibase-entityid'}, 'hash': '150eb34a3968362c4aa47e2b4db16e65fc0bad96'}]}, 'qualifiers-order': ['P642'], 'references': [{'snaks': {'P854': [{'snaktype': 'value', 'property': 'P854', 'datatype': 'url', 'datavalue': {'value': 'https://jboats.com/j92s-tech-specs', 'type': 'string'}}], 'P813': [{'snaktype': 'value', 'property': 'P813', 'datatype': 'time', 'datavalue': {'value': {'time': '+00000002021-03-30T00:00:00Z', 'precision': 11, 'after': 0, 'before': 0, 'timezone': 0, 'calendarmodel': 'http://www.wikidata.org/entity/Q1985727'}, 'type': 'time'}}]}, 'snaks-order': ['P854', 'P813'], 'hash': 'b0a5d8e227e77ebb2aa5575db62ab7b4bd533f53'}]}), Claim.fromJSON(DataSite(\"wikidata\", \"wikidata\"), {'mainsnak': {'snaktype': 'value', 'property': 'P2048', 'datatype': 'quantity', 'datavalue': {'value': {'amount': '+13.49', 'upperBound': None, 'lowerBound': None, 'unit': 'http://www.wikidata.org/entity/Q11573'}, 'type': 'quantity'}}, 'type': 'statement', 'id': 'Q97179551$00fa9c15-497c-a807-f9a7-424a5ae0d5ad', 'rank': 'normal', 'qualifiers': {'P642': [{'snaktype': 'value', 'property': 'P642', 'datatype': 'wikibase-item', 'datavalue': {'value': {'entity-type': 'item', 'numeric-id': 331744}, 'type': 'wikibase-entityid'}, 'hash': '23bda965a15f4f66aab92d116063d85a063070ce'}]}, 'qualifiers-order': ['P642'], 'references': [{'snaks': {'P854': [{'snaktype': 'value', 'property': 'P854', 'datatype': 'url', 'datavalue': {'value': 'https://jboats.com/j92s-tech-specs', 'type': 'string'}}]}, 'snaks-order': ['P854'], 'hash': '4a60fed570bf741fc8e5ea00015e6c537aab0773'}]}), Claim.fromJSON(DataSite(\"wikidata\", \"wikidata\"), {'mainsnak': {'snaktype': 'value', 'property': 'P2048', 'datatype': 'quantity', 'datavalue': {'value': {'amount': '+14.6', 'upperBound': None, 'lowerBound': None, 'unit': 'http://www.wikidata.org/entity/Q11573'}, 'type': 'quantity'}}, 'type': 'statement', 'id': 'Q97179551$524dd3f2-42b3-ff8d-e1a6-1005d74b9150', 'rank': 'normal', 'qualifiers': {'P642': [{'snaktype': 'value', 'property': 'P642', 'datatype': 'wikibase-item', 'datavalue': {'value': {'entity-type': 'item', 'numeric-id': 2446632}, 'type': 'wikibase-entityid'}, 'hash': 'a339ce0d955485cdb18d332b1bd39ef960252099'}]}, 'qualifiers-order': ['P642'], 'references': [{'snaks': {'P854': [{'snaktype': 'value', 'property': 'P854', 'datatype': 'url', 'datavalue': {'value': 'https://jboats.com/j92s-tech-specs', 'type': 'string'}}]}, 'snaks-order': ['P854'], 'hash': '4a60fed570bf741fc8e5ea00015e6c537aab0773'}]})], 'P287': [Claim.fromJSON(DataSite(\"wikidata\", \"wikidata\"), {'mainsnak': {'snaktype': 'value', 'property': 'P287', 'datatype': 'wikibase-item', 'datavalue': {'value': {'entity-type': 'item', 'numeric-id': 106087558}, 'type': 'wikibase-entityid'}}, 'type': 'statement', 'id': 'Q97179551$df90a68e-497a-4080-bec5-1ee995bd5bcf', 'rank': 'normal', 'references': [{'snaks': {'P854': [{'snaktype': 'value', 'property': 'P854', 'datatype': 'url', 'datavalue': {'value': 'https://jboats.com/j92s', 'type': 'string'}}]}, 'snaks-order': ['P854'], 'hash': '1e0f2ad9edfe8594ebd13fde07ff706eb66b03df'}]})], 'P2067': [Claim.fromJSON(DataSite(\"wikidata\", \"wikidata\"), {'mainsnak': {'snaktype': 'value', 'property': 'P2067', 'datatype': 'quantity', 'datavalue': {'value': {'amount': '+2550', 'upperBound': None, 'lowerBound': None, 'unit': 'http://www.wikidata.org/entity/Q11570'}, 'type': 'quantity'}}, 'type': 'statement', 'id': 'Q97179551$2cb0f681-4bcd-ede2-a147-7aa352b7ca64', 'rank': 'normal', 'qualifiers': {'P642': [{'snaktype': 'value', 'property': 'P642', 'datatype': 'wikibase-item', 'datavalue': {'value': {'entity-type': 'item', 'numeric-id': 5636358}, 'type': 'wikibase-entityid'}, 'hash': '9b35e18a0b409cbb243dcafd61faca309a7677bc'}]}, 'qualifiers-order': ['P642'], 'references': [{'snaks': {'P854': [{'snaktype': 'value', 'property': 'P854', 'datatype': 'url', 'datavalue': {'value': 'https://jboats.com/j92s-tech-specs', 'type': 'string'}}], 'P813': [{'snaktype': 'value', 'property': 'P813', 'datatype': 'time', 'datavalue': {'value': {'time': '+00000002021-03-30T00:00:00Z', 'precision': 11, 'after': 0, 'before': 0, 'timezone': 0, 'calendarmodel': 'http://www.wikidata.org/entity/Q1985727'}, 'type': 'time'}}]}, 'snaks-order': ['P854', 'P813'], 'hash': 'b0a5d8e227e77ebb2aa5575db62ab7b4bd533f53'}]}), Claim.fromJSON(DataSite(\"wikidata\", \"wikidata\"), {'mainsnak': {'snaktype': 'value', 'property': 'P2067', 'datatype': 'quantity', 'datavalue': {'value': {'amount': '+1050', 'upperBound': None, 'lowerBound': None, 'unit': 'http://www.wikidata.org/entity/Q11570'}, 'type': 'quantity'}}, 'type': 'statement', 'id': 'Q97179551$a8165625-40eb-edc0-f309-67076cb438a0', 'rank': 'normal', 'qualifiers': {'P642': [{'snaktype': 'value', 'property': 'P642', 'datatype': 'wikibase-item', 'datavalue': {'value': {'entity-type': 'item', 'numeric-id': 5461048}, 'type': 'wikibase-entityid'}, 'hash': 'a34cc65cc0b8bbb82767473d98d10cbb5ed2b13f'}]}, 'qualifiers-order': ['P642'], 'references': [{'snaks': {'P854': [{'snaktype': 'value', 'property': 'P854', 'datatype': 'url', 'datavalue': {'value': 'https://jboats.com/j92s-tech-specs', 'type': 'string'}}], 'P813': [{'snaktype': 'value', 'property': 'P813', 'datatype': 'time', 'datavalue': {'value': {'time': '+00000002021-03-30T00:00:00Z', 'precision': 11, 'after': 0, 'before': 0, 'timezone': 0, 'calendarmodel': 'http://www.wikidata.org/entity/Q1985727'}, 'type': 'time'}}]}, 'snaks-order': ['P854', 'P813'], 'hash': 'b0a5d8e227e77ebb2aa5575db62ab7b4bd533f53'}]})], 'P2670': [Claim.fromJSON(DataSite(\"wikidata\", \"wikidata\"), {'mainsnak': {'snaktype': 'value', 'property': 'P2670', 'datatype': 'wikibase-item', 'datavalue': {'value': {'entity-type': 'item', 'numeric-id': 1121807}, 'type': 'wikibase-entityid'}}, 'type': 'statement', 'id': 'Q97179551$1f83fcdc-48d5-5337-f680-efbcc3e32811', 'rank': 'normal', 'qualifiers': {'P2046': [{'snaktype': 'value', 'property': 'P2046', 'datatype': 'quantity', 'datavalue': {'value': {'amount': '+29', 'upperBound': None, 'lowerBound': None, 'unit': 'http://www.wikidata.org/entity/Q25343'}, 'type': 'quantity'}, 'hash': '5b2587608c9cb07c9e2212070ccf5b86ab6d68a9'}], 'P2043': [{'snaktype': 'value', 'property': 'P2043', 'datatype': 'quantity', 'datavalue': {'value': {'amount': '+4.25', 'upperBound': None, 'lowerBound': None, 'unit': 'http://www.wikidata.org/entity/Q11573'}, 'type': 'quantity'}, 'hash': 'f9e1400aad5f003134acbf5af7c1c779b29aebb5'}], 'P2048': [{'snaktype': 'value', 'property': 'P2048', 'datatype': 'quantity', 'datavalue': {'value': {'amount': '+11.85', 'upperBound': None, 'lowerBound': None, 'unit': 'http://www.wikidata.org/entity/Q11573'}, 'type': 'quantity'}, 'hash': '39b0857c03e2bef83eb6798c2e64ce8f1e900e5f'}]}, 'qualifiers-order': ['P2046', 'P2043', 'P2048'], 'references': [{'snaks': {'P854': [{'snaktype': 'value', 'property': 'P854', 'datatype': 'url', 'datavalue': {'value': 'https://www.jowners.org/images/docs/j92s/manual%20J92S%20GB.pdf', 'type': 'string'}}]}, 'snaks-order': ['P854'], 'hash': '783c425663fe92f565cd28f58b57b8d79e46dcb1'}, {'snaks': {'P854': [{'snaktype': 'value', 'property': 'P854', 'datatype': 'url', 'datavalue': {'value': 'https://sailboatdata.com/sailboat/j92s', 'type': 'string'}}]}, 'snaks-order': ['P854'], 'hash': '4d651302039ad1d5728e11ef7083657efe5b8562'}]}), Claim.fromJSON(DataSite(\"wikidata\", \"wikidata\"), {'mainsnak': {'snaktype': 'value', 'property': 'P2670', 'datatype': 'wikibase-item', 'datavalue': {'value': {'entity-type': 'item', 'numeric-id': 547649}, 'type': 'wikibase-entityid'}}, 'type': 'statement', 'id': 'Q97179551$654d7b2d-43a8-f580-7ce5-2547073ab70c', 'rank': 'normal', 'qualifiers': {'P2046': [{'snaktype': 'value', 'property': 'P2046', 'datatype': 'quantity', 'datavalue': {'value': {'amount': '+28.5', 'upperBound': None, 'lowerBound': None, 'unit': 'http://www.wikidata.org/entity/Q25343'}, 'type': 'quantity'}, 'hash': 'c6b4494d423d94364c3852d6653122863d03e76d'}], 'P2043': [{'snaktype': 'value', 'property': 'P2043', 'datatype': 'quantity', 'datavalue': {'value': {'amount': '+3.5', 'upperBound': None, 'lowerBound': None, 'unit': 'http://www.wikidata.org/entity/Q11573'}, 'type': 'quantity'}, 'hash': '04b59a6a23cd398f926953f80a8b1ff78e55a435'}], 'P2048': [{'snaktype': 'value', 'property': 'P2048', 'datatype': 'quantity', 'datavalue': {'value': {'amount': '+12.45', 'upperBound': None, 'lowerBound': None, 'unit': 'http://www.wikidata.org/entity/Q11573'}, 'type': 'quantity'}, 'hash': '0cd6f3e23ad12db88b97cb34cd5d96354296e590'}]}, 'qualifiers-order': ['P2046', 'P2043', 'P2048'], 'references': [{'snaks': {'P854': [{'snaktype': 'value', 'property': 'P854', 'datatype': 'url', 'datavalue': {'value': 'https://www.jowners.org/images/docs/j92s/manual%20J92S%20GB.pdf', 'type': 'string'}}]}, 'snaks-order': ['P854'], 'hash': '783c425663fe92f565cd28f58b57b8d79e46dcb1'}, {'snaks': {'P854': [{'snaktype': 'value', 'property': 'P854', 'datatype': 'url', 'datavalue': {'value': 'https://sailboatdata.com/sailboat/j92s', 'type': 'string'}}]}, 'snaks-order': ['P854'], 'hash': '4d651302039ad1d5728e11ef7083657efe5b8562'}]}), Claim.fromJSON(DataSite(\"wikidata\", \"wikidata\"), {'mainsnak': {'snaktype': 'value', 'property': 'P2670', 'datatype': 'wikibase-item', 'datavalue': {'value': {'entity-type': 'item', 'numeric-id': 1137340}, 'type': 'wikibase-entityid'}}, 'type': 'statement', 'id': 'Q97179551$ba2c3dc2-4348-1b2d-baf7-005ae7fa6121', 'rank': 'normal', 'qualifiers': {'P2046': [{'snaktype': 'value', 'property': 'P2046', 'datatype': 'quantity', 'datavalue': {'value': {'amount': '+89', 'upperBound': None, 'lowerBound': None, 'unit': 'http://www.wikidata.org/entity/Q25343'}, 'type': 'quantity'}, 'hash': 'fd273d09c8fb20b96857f338651dcdc87c0fa975'}]}, 'qualifiers-order': ['P2046'], 'references': [{'snaks': {'P854': [{'snaktype': 'value', 'property': 'P854', 'datatype': 'url', 'datavalue': {'value': 'https://www.jowners.org/images/docs/j92s/manual%20J92S%20GB.pdf', 'type': 'string'}}]}, 'snaks-order': ['P854'], 'hash': '783c425663fe92f565cd28f58b57b8d79e46dcb1'}]})], 'P2079': [Claim.fromJSON(DataSite(\"wikidata\", \"wikidata\"), {'mainsnak': {'snaktype': 'value', 'property': 'P2079', 'datatype': 'wikibase-item', 'datavalue': {'value': {'entity-type': 'item', 'numeric-id': 25220345}, 'type': 'wikibase-entityid'}}, 'type': 'statement', 'id': 'Q97179551$bba10f41-45dd-0ea3-8dc0-30b623b02119', 'rank': 'normal', 'references': [{'snaks': {'P854': [{'snaktype': 'value', 'property': 'P854', 'datatype': 'url', 'datavalue': {'value': 'https://www.jowners.org/images/docs/j92s/manual%20J92S%20GB.pdf', 'type': 'string'}}]}, 'snaks-order': ['P854'], 'hash': '783c425663fe92f565cd28f58b57b8d79e46dcb1'}]})], 'P5869': [Claim.fromJSON(DataSite(\"wikidata\", \"wikidata\"), {'mainsnak': {'snaktype': 'value', 'property': 'P5869', 'datatype': 'wikibase-item', 'datavalue': {'value': {'entity-type': 'item', 'numeric-id': 106087278}, 'type': 'wikibase-entityid'}}, 'type': 'statement', 'id': 'Q97179551$646e21b0-4586-9543-4fd8-b4ff357508d0', 'rank': 'normal'})], 'P186': [Claim.fromJSON(DataSite(\"wikidata\", \"wikidata\"), {'mainsnak': {'snaktype': 'value', 'property': 'P186', 'datatype': 'wikibase-item', 'datavalue': {'value': {'entity-type': 'item', 'numeric-id': 7224880}, 'type': 'wikibase-entityid'}}, 'type': 'statement', 'id': 'Q97179551$28dbdd06-43b1-51dd-9ded-22291e2c0f51', 'rank': 'normal', 'references': [{'snaks': {'P854': [{'snaktype': 'value', 'property': 'P854', 'datatype': 'url', 'datavalue': {'value': 'https://jboats.com/j92s-tech-specs', 'type': 'string'}}]}, 'snaks-order': ['P854'], 'hash': '4a60fed570bf741fc8e5ea00015e6c537aab0773'}]})], 'P4833': [Claim.fromJSON(DataSite(\"wikidata\", \"wikidata\"), {'mainsnak': {'snaktype': 'value', 'property': 'P4833', 'datatype': 'external-id', 'datavalue': {'value': 'sailboat/j92s', 'type': 'string'}}, 'type': 'statement', 'id': 'Q97179551$e9224356-46c5-1edc-8865-70c415b3eaa5', 'rank': 'normal'})], 'P4271': [Claim.fromJSON(DataSite(\"wikidata\", \"wikidata\"), {'mainsnak': {'snaktype': 'value', 'property': 'P4271', 'datatype': 'wikibase-item', 'datavalue': {'value': {'entity-type': 'item', 'numeric-id': 435673}, 'type': 'wikibase-entityid'}}, 'type': 'statement', 'id': 'Q97179551$7ad7e001-4cfd-5de0-3dc4-aa4cf798de3f', 'rank': 'normal', 'qualifiers': {'P642': [{'snaktype': 'value', 'property': 'P642', 'datatype': 'wikibase-item', 'datavalue': {'value': {'entity-type': 'item', 'numeric-id': 7168207}, 'type': 'wikibase-entityid'}, 'hash': '5935f022d861d19dac70699b91e76807e9c53cad'}]}, 'qualifiers-order': ['P642'], 'references': [{'snaks': {'P854': [{'snaktype': 'value', 'property': 'P854', 'datatype': 'url', 'datavalue': {'value': 'https://www.jboats.com/59-boats/boats/117-j-phrf-performance-analysis', 'type': 'string'}}]}, 'snaks-order': ['P854'], 'hash': 'a7759ed06bccbe3880aca5c774d0a17b03f4aa27'}, {'snaks': {'P4656': [{'snaktype': 'value', 'property': 'P4656', 'datatype': 'url', 'datavalue': {'value': 'https://en.wikipedia.org/wiki/J/92s', 'type': 'string'}}]}, 'snaks-order': ['P4656'], 'hash': '8816629e013c95a971220c22e04b4b97796dfb4a'}]})]})"
      ]
     },
     "execution_count": 10,
     "metadata": {},
     "output_type": "execute_result"
    }
   ],
   "source": [
    "claims['claims']"
   ]
  },
  {
   "cell_type": "code",
   "execution_count": 11,
   "metadata": {},
   "outputs": [
    {
     "name": "stderr",
     "output_type": "stream",
     "text": [
      "Error: statement already exists!\n"
     ]
    }
   ],
   "source": [
    "statement_property = 'P2067'\n",
    "statement_value = 2822\n",
    "statement_unit = 'lb'\n",
    "\n",
    "\n",
    "if statement_property in claims[u'claims']: #if a value is present already, print error.\n",
    "    pywikibot.output(u'Error: statement already exists!')\n",
    "else:\n",
    "    stringclaim = pywikibot.Claim(repo_data, statement_property) #Else, add the value\n",
    "    stringclaim.setTarget(statement_value)\n",
    "    item_data.addClaim(stringclaim, summary=u'adding statement via bot')"
   ]
  },
  {
   "cell_type": "code",
   "execution_count": 14,
   "metadata": {},
   "outputs": [
    {
     "ename": "KeyError",
     "evalue": "'P2067'",
     "output_type": "error",
     "traceback": [
      "\u001b[0;31m---------------------------------------------------------------------------\u001b[0m",
      "\u001b[0;31mKeyError\u001b[0m                                  Traceback (most recent call last)",
      "\u001b[0;32m<ipython-input-14-9139eda32ffe>\u001b[0m in \u001b[0;36m<module>\u001b[0;34m\u001b[0m\n\u001b[0;32m----> 1\u001b[0;31m \u001b[0mclaims\u001b[0m\u001b[0;34m[\u001b[0m\u001b[0;34m'P2067'\u001b[0m\u001b[0;34m]\u001b[0m\u001b[0;34m\u001b[0m\u001b[0;34m\u001b[0m\u001b[0m\n\u001b[0m",
      "\u001b[0;31mKeyError\u001b[0m: 'P2067'"
     ]
    }
   ],
   "source": [
    "claims['P2067']"
   ]
  },
  {
   "cell_type": "code",
   "execution_count": 78,
   "metadata": {},
   "outputs": [
    {
     "ename": "AttributeError",
     "evalue": "'list' object has no attribute 'target'",
     "output_type": "error",
     "traceback": [
      "\u001b[0;31m---------------------------------------------------------------------------\u001b[0m",
      "\u001b[0;31mAttributeError\u001b[0m                            Traceback (most recent call last)",
      "\u001b[0;32m<ipython-input-78-55e867662df8>\u001b[0m in \u001b[0;36m<module>\u001b[0;34m\u001b[0m\n\u001b[1;32m     23\u001b[0m         \u001b[0mprint\u001b[0m\u001b[0;34m(\u001b[0m\u001b[0;34m'statement_qualifier not found'\u001b[0m\u001b[0;34m)\u001b[0m\u001b[0;34m\u001b[0m\u001b[0;34m\u001b[0m\u001b[0m\n\u001b[1;32m     24\u001b[0m     \u001b[0;32melse\u001b[0m\u001b[0;34m:\u001b[0m\u001b[0;34m\u001b[0m\u001b[0;34m\u001b[0m\u001b[0m\n\u001b[0;32m---> 25\u001b[0;31m         \u001b[0;32mfor\u001b[0m \u001b[0mvalues\u001b[0m \u001b[0;32min\u001b[0m \u001b[0mclaim\u001b[0m\u001b[0;34m.\u001b[0m\u001b[0mqualifiers\u001b[0m\u001b[0;34m[\u001b[0m\u001b[0mstatement_qualifier\u001b[0m\u001b[0;34m]\u001b[0m\u001b[0;34m.\u001b[0m\u001b[0mtarget\u001b[0m\u001b[0;34m.\u001b[0m\u001b[0mid\u001b[0m\u001b[0;34m:\u001b[0m\u001b[0;34m\u001b[0m\u001b[0;34m\u001b[0m\u001b[0m\n\u001b[0m\u001b[1;32m     26\u001b[0m             \u001b[0;32mif\u001b[0m \u001b[0mstatement_qualifier_target\u001b[0m \u001b[0;34m==\u001b[0m \u001b[0mvalues\u001b[0m\u001b[0;34m:\u001b[0m\u001b[0;34m\u001b[0m\u001b[0;34m\u001b[0m\u001b[0m\n\u001b[1;32m     27\u001b[0m                 \u001b[0mprint\u001b[0m\u001b[0;34m(\u001b[0m\u001b[0;34m'statement_qualifier_target already defined'\u001b[0m\u001b[0;34m)\u001b[0m\u001b[0;34m\u001b[0m\u001b[0;34m\u001b[0m\u001b[0m\n",
      "\u001b[0;31mAttributeError\u001b[0m: 'list' object has no attribute 'target'"
     ]
    }
   ],
   "source": [
    "# -*- coding: utf-8  -*-\n",
    "import pywikibot\n",
    "\"\"\"\n",
    "Adding a qualifier to existing claims/statements\n",
    "\"\"\"\n",
    "site_data = pywikibot.Site(\"wikidata\", \"wikidata\")\n",
    "repo_data = site_data.data_repository()\n",
    "item_data = pywikibot.ItemPage(repo_data, \"Q97179551\")\n",
    "statement_property = 'P2067' # 'P2067' mass\n",
    "statement_qualifier = 'P642' # 'P642' of\n",
    "statement_qualifier_target = 'Q5636358' # 'Q5636358' displacement\n",
    "\n",
    "statement_value = 2822\n",
    "statement_unit = 'lb'\n",
    "\n",
    "\n",
    "item_data.get() #Fetch all page data, and cache it.\n",
    "\n",
    "\n",
    "\n",
    "for claim in item_data.claims[statement_property]: #Finds all statements with property (P)\n",
    "    if statement_qualifier not in claim.qualifiers: #If not already exist\n",
    "        print('statement_qualifier not found')\n",
    "    else:\n",
    "        for values in claim.qualifiers[statement_qualifier]:\n",
    "            if statement_qualifier_target == values.target.id:\n",
    "                print('statement_qualifier_target already defined')\n",
    "            else:\n",
    "                print('statement_qualifier_target not found')\n",
    "\n",
    "        # Generate QUALIFIER FOR EXISTENCE STATEMENTS/CLAIMS\n",
    "        #qualifier = pywikibot.Claim(repo, u'P642')\n",
    "        #target = pywikibot.ItemPage(repo, \"Q35409\")\n",
    "        #qualifier.setTarget(target)\n",
    "\n",
    "        #claim.addQualifier(qualifier, summary=u'Adding a qualifier.') #Adding qualifier to all statements (P131)"
   ]
  },
  {
   "cell_type": "code",
   "execution_count": 80,
   "metadata": {},
   "outputs": [
    {
     "data": {
      "text/plain": [
       "ItemPage('Q5636358')"
      ]
     },
     "execution_count": 80,
     "metadata": {},
     "output_type": "execute_result"
    }
   ],
   "source": [
    "item_data.claims['P2067'][0].qualifiers['P642'][0].target"
   ]
  },
  {
   "cell_type": "code",
   "execution_count": 89,
   "metadata": {},
   "outputs": [],
   "source": [
    "import pprint\n",
    "\n",
    "def prettyPrint(variable):\n",
    "    pp = pprint.PrettyPrinter(indent=4)\n",
    "    pp.pprint(variable)"
   ]
  },
  {
   "cell_type": "code",
   "execution_count": 90,
   "metadata": {},
   "outputs": [
    {
     "name": "stdout",
     "output_type": "stream",
     "text": [
      "[   Claim.fromJSON(DataSite(\"wikidata\", \"wikidata\"), {'mainsnak': {'snaktype': 'value', 'property': 'P2067', 'datatype': 'quantity', 'datavalue': {'value': {'amount': '+2550', 'upperBound': None, 'lowerBound': None, 'unit': 'http://www.wikidata.org/entity/Q11570'}, 'type': 'quantity'}}, 'type': 'statement', 'id': 'Q97179551$2cb0f681-4bcd-ede2-a147-7aa352b7ca64', 'rank': 'normal', 'qualifiers': {'P642': [{'snaktype': 'value', 'property': 'P642', 'datatype': 'wikibase-item', 'datavalue': {'value': {'entity-type': 'item', 'numeric-id': 5636358}, 'type': 'wikibase-entityid'}, 'hash': '9b35e18a0b409cbb243dcafd61faca309a7677bc'}]}, 'qualifiers-order': ['P642'], 'references': [{'snaks': {'P854': [{'snaktype': 'value', 'property': 'P854', 'datatype': 'url', 'datavalue': {'value': 'https://jboats.com/j92s-tech-specs', 'type': 'string'}}], 'P813': [{'snaktype': 'value', 'property': 'P813', 'datatype': 'time', 'datavalue': {'value': {'time': '+00000002021-03-30T00:00:00Z', 'precision': 11, 'after': 0, 'before': 0, 'timezone': 0, 'calendarmodel': 'http://www.wikidata.org/entity/Q1985727'}, 'type': 'time'}}]}, 'snaks-order': ['P854', 'P813'], 'hash': 'b0a5d8e227e77ebb2aa5575db62ab7b4bd533f53'}]}),\n",
      "    Claim.fromJSON(DataSite(\"wikidata\", \"wikidata\"), {'mainsnak': {'snaktype': 'value', 'property': 'P2067', 'datatype': 'quantity', 'datavalue': {'value': {'amount': '+1050', 'upperBound': None, 'lowerBound': None, 'unit': 'http://www.wikidata.org/entity/Q11570'}, 'type': 'quantity'}}, 'type': 'statement', 'id': 'Q97179551$a8165625-40eb-edc0-f309-67076cb438a0', 'rank': 'normal', 'qualifiers': {'P642': [{'snaktype': 'value', 'property': 'P642', 'datatype': 'wikibase-item', 'datavalue': {'value': {'entity-type': 'item', 'numeric-id': 5461048}, 'type': 'wikibase-entityid'}, 'hash': 'a34cc65cc0b8bbb82767473d98d10cbb5ed2b13f'}]}, 'qualifiers-order': ['P642'], 'references': [{'snaks': {'P854': [{'snaktype': 'value', 'property': 'P854', 'datatype': 'url', 'datavalue': {'value': 'https://jboats.com/j92s-tech-specs', 'type': 'string'}}], 'P813': [{'snaktype': 'value', 'property': 'P813', 'datatype': 'time', 'datavalue': {'value': {'time': '+00000002021-03-30T00:00:00Z', 'precision': 11, 'after': 0, 'before': 0, 'timezone': 0, 'calendarmodel': 'http://www.wikidata.org/entity/Q1985727'}, 'type': 'time'}}]}, 'snaks-order': ['P854', 'P813'], 'hash': 'b0a5d8e227e77ebb2aa5575db62ab7b4bd533f53'}]})]\n"
     ]
    }
   ],
   "source": [
    "prettyPrint(item_data.claims['P2067'])"
   ]
  },
  {
   "cell_type": "markdown",
   "metadata": {},
   "source": [
    "# Alternative"
   ]
  },
  {
   "cell_type": "code",
   "execution_count": null,
   "metadata": {},
   "outputs": [],
   "source": [
    "def strip_dict_entries(dict_in):\n",
    "    \"\"\"Strip whitespace from all keys and (string) values in a dictionary.\"\"\"\n",
    "    dict_out = dict()\n",
    "    if not isinstance(dict_in, dict):\n",
    "        raise MyError('strip_dict_entries() expects a dictionary object'\n",
    "                      'as input but found \"%s\"' % type(dict_in).__name__)\n",
    "    for k, v in dict_in.items():\n",
    "        if isinstance(v,str):\n",
    "            v = v.strip()\n",
    "        dict_out[k.strip()] = v\n",
    "    return dict_out"
   ]
  },
  {
   "cell_type": "code",
   "execution_count": null,
   "metadata": {},
   "outputs": [],
   "source": [
    "def extract_template_data2(generator, template_name, field_name, header=None):\n",
    "    \"\"\"\n",
    "    Takes a Generator, a Template name, a Field name and returns a List\n",
    "\n",
    "    The function can also take a header (list of strings) that will be\n",
    "    the headers of the table (Needs to be the same dimension as the table).\n",
    "    The first column needs to be a link to property (It will be made into\n",
    "    a link. In this example the second column is a list of links to Q-items.\n",
    "    \"\"\"\n",
    "    template_data = []\n",
    "    result = []\n",
    "\n",
    "    if header != None:\n",
    "        template_data.append(header)\n",
    "\n",
    "    for page in generator:                    \n",
    "        templates = pywikibot.textlib.extract_templates_and_params(page.text)\n",
    "        for tp in templates:\n",
    "            if tp[0] == template_name:\n",
    "                #print(tp[1])\n",
    "                result.append(strip_dict_entries(tp[1]))\n",
    "            \n",
    "    return result"
   ]
  },
  {
   "cell_type": "code",
   "execution_count": null,
   "metadata": {},
   "outputs": [],
   "source": [
    "result"
   ]
  },
  {
   "cell_type": "code",
   "execution_count": null,
   "metadata": {},
   "outputs": [],
   "source": [
    "def get_all_template_entries(wikitext, template_name):\n",
    "    \"\"\"Return a list of all arguments for instances of a given template.\"\"\"\n",
    "    templates = pywikibot.textlib.extract_templates_and_params(wikitext)\n",
    "    result = []\n",
    "    for tp in templates:\n",
    "        if tp[0] == template_name:\n",
    "            print(tp[1])\n",
    "            result.append(strip_dict_entries(tp[1]))\n",
    "    return result"
   ]
  },
  {
   "cell_type": "code",
   "execution_count": null,
   "metadata": {},
   "outputs": [],
   "source": [
    "toto = get_all_template_entries(page.text, template_name)\n",
    "toto"
   ]
  },
  {
   "cell_type": "code",
   "execution_count": null,
   "metadata": {},
   "outputs": [],
   "source": [
    "import mwparserfromhell\n",
    "import pywikibot\n",
    "\n",
    "def parse(title):\n",
    "    site = pywikibot.Site()\n",
    "    page = pywikibot.Page(site, title)\n",
    "    text = page.get()\n",
    "    return mwparserfromhell.parse(text)\n",
    "\n"
   ]
  },
  {
   "cell_type": "code",
   "execution_count": null,
   "metadata": {},
   "outputs": [],
   "source": [
    "for page in tmpl_gen:\n",
    "    item = pywikibot.ItemPage.fromPage(page)\n",
    "    print(page.title(), item.getID())\n",
    "    print(page)"
   ]
  },
  {
   "cell_type": "code",
   "execution_count": null,
   "metadata": {},
   "outputs": [],
   "source": [
    "type(page)"
   ]
  },
  {
   "cell_type": "code",
   "execution_count": null,
   "metadata": {},
   "outputs": [],
   "source": [
    "templates = page.templatesWithParams()\n",
    "(template_page,item)=templates[0]\n",
    "print(type(item))\n",
    "item"
   ]
  },
  {
   "cell_type": "code",
   "execution_count": null,
   "metadata": {},
   "outputs": [],
   "source": [
    "templates_raw = page.raw_extracted_templates\n",
    "(template_0, item_0)=templates_raw[0]\n",
    "print(type(item_0))\n",
    "item_0"
   ]
  },
  {
   "cell_type": "code",
   "execution_count": null,
   "metadata": {},
   "outputs": [],
   "source": [
    "item_0[\"loa\"]"
   ]
  },
  {
   "cell_type": "code",
   "execution_count": null,
   "metadata": {},
   "outputs": [],
   "source": [
    "for (template, fielddict) in templates:\n",
    "            # Clean up template\n",
    "            try:\n",
    "                template = pywikibot.Page(page.site, template,\n",
    "                                          ns=10).title(with_ns=False)\n",
    "            except pywikibot.exceptions.InvalidTitle:\n",
    "                pywikibot.error(\n",
    "                    \"Failed parsing template; '{}' should be \"\n",
    "                    'the template name.'.format(template))\n",
    "                continue\n",
    "            # We found the template we were looking for\n",
    "            for field, value in fielddict.items():\n",
    "                field = field.strip()"
   ]
  },
  {
   "cell_type": "code",
   "execution_count": null,
   "metadata": {},
   "outputs": [],
   "source": [
    "for (template, fielddict) in templates:\n",
    "    print(template)\n",
    "    print(fielddict)"
   ]
  },
  {
   "cell_type": "code",
   "execution_count": null,
   "metadata": {},
   "outputs": [],
   "source": [
    "fielddict"
   ]
  },
  {
   "cell_type": "code",
   "execution_count": null,
   "metadata": {},
   "outputs": [],
   "source": [
    "(template, fielddict)=templates[0]"
   ]
  },
  {
   "cell_type": "code",
   "execution_count": null,
   "metadata": {},
   "outputs": [],
   "source": [
    "fielddict"
   ]
  },
  {
   "cell_type": "code",
   "execution_count": null,
   "metadata": {},
   "outputs": [],
   "source": [
    "(field, value) = fielddict.items(2)"
   ]
  },
  {
   "cell_type": "code",
   "execution_count": null,
   "metadata": {},
   "outputs": [],
   "source": [
    "import pywikibot\n",
    "from pywikibot import pagegenerators as pg\n",
    "\n",
    "def list_template_usage(site_obj, template_name):\n",
    "    \"\"\"\n",
    "    Takes Site object and template name and returns a generator.\n",
    "\n",
    "    The function expects a Site object (pywikibot.Site()) and\n",
    "    a template name (String). It creates a list of all\n",
    "    pages using that template and returns them as a generator.\n",
    "    It only returns pages in the 121-namespace (property-talk-pages).\n",
    "    The generator will load 50 pages at a time for iteration.\n",
    "    \"\"\"\n",
    "    name = \"{}:{}\".format(site.namespace(10), template_name)\n",
    "    tmpl_page = pywikibot.Page(site, name)\n",
    "    ref_gen = pg.ReferringPageGenerator(tmpl_page, onlyTemplateInclusion=True)\n",
    "    filter_gen = pg.NamespaceFilterPageGenerator(ref_gen, namespaces=[10])\n",
    "    generator = site.preloadpages(filter_gen, pageprops=True)\n",
    "    return generator"
   ]
  },
  {
   "cell_type": "code",
   "execution_count": null,
   "metadata": {},
   "outputs": [],
   "source": [
    "site = pywikibot.Site(\"en\", 'wikipedia')\n",
    "tmpl_gen = list_template_usage(site, \"Infobox_sailboat_specifications\")"
   ]
  },
  {
   "cell_type": "markdown",
   "metadata": {},
   "source": [
    "# code for single page"
   ]
  },
  {
   "cell_type": "code",
   "execution_count": 21,
   "metadata": {},
   "outputs": [
    {
     "name": "stdout",
     "output_type": "stream",
     "text": [
      "Q60755728\n"
     ]
    }
   ],
   "source": [
    "import pywikibot\n",
    "\n",
    "#template_name = \"Infobox_sailboat_specifications\"\n",
    "#field_name = \"loa\"\n",
    "template_name = \"Infobox sailing yacht\"\n",
    "field_name = \"designer\"\n",
    "filename = template_name + \".\" + field_name + \".csv\"\n",
    "\n",
    "site = pywikibot.Site(\"en\", \"wikipedia\")\n",
    "#page = pywikibot.Page(site, \"ETAP_32s\")\n",
    "#page = pywikibot.Page(site, \"Finn (dinghy)\")\n",
    "#page = pywikibot.Page(site, \"49er (dinghy)\")\n",
    "#page = pywikibot.Page(site, \"Squib (keelboat)\")\n",
    "#page = pywikibot.Page(site, \"Hobie 16\")\n",
    "page = pywikibot.Page(site, \"Maiden_%28yacht%29\")\n",
    "page_url = page.full_url()\n",
    "qid = pywikibot.ItemPage.fromPage(page).id\n",
    "print(qid)"
   ]
  },
  {
   "cell_type": "code",
   "execution_count": 22,
   "metadata": {},
   "outputs": [
    {
     "name": "stdout",
     "output_type": "stream",
     "text": [
      "qid: Q60755728, page: https://en.wikipedia.org/wiki/Maiden_%28yacht%29 | designer: [[Bruce Farr]]\n"
     ]
    }
   ],
   "source": [
    "tmpl_list = page.raw_extracted_templates\n",
    "template_name = template_name_replace_underscores(template_name)\n",
    "for tmpl in tmpl_list:\n",
    "    if template_name in tmpl:\n",
    "        try:\n",
    "            dico=tmpl[1]\n",
    "            field=dico[field_name]\n",
    "            print(\"qid: %s, page: %s | %s: %s\" % (qid, page_url, field_name, field))\n",
    "            template_data.append([qid, page_url, field])\n",
    "        except:\n",
    "            print('no such field')"
   ]
  },
  {
   "cell_type": "code",
   "execution_count": 16,
   "metadata": {},
   "outputs": [
    {
     "name": "stdout",
     "output_type": "stream",
     "text": [
      "('{{convert|58|ft}}', '')\n"
     ]
    }
   ],
   "source": [
    "print(convert_field(\"{{convert|58|ft}}\"))"
   ]
  },
  {
   "cell_type": "code",
   "execution_count": 23,
   "metadata": {},
   "outputs": [
    {
     "data": {
      "text/plain": [
       "'[[Bruce Farr]]'"
      ]
     },
     "execution_count": 23,
     "metadata": {},
     "output_type": "execute_result"
    }
   ],
   "source": [
    "field"
   ]
  },
  {
   "cell_type": "code",
   "execution_count": 24,
   "metadata": {},
   "outputs": [
    {
     "data": {
      "text/plain": [
       "str"
      ]
     },
     "execution_count": 24,
     "metadata": {},
     "output_type": "execute_result"
    }
   ],
   "source": [
    "type(field)"
   ]
  },
  {
   "cell_type": "code",
   "execution_count": 28,
   "metadata": {},
   "outputs": [
    {
     "ename": "InvalidTitle",
     "evalue": "'[[Bruce Farr]]' contains illegal char(s) '['",
     "output_type": "error",
     "traceback": [
      "\u001b[0;31m---------------------------------------------------------------------------\u001b[0m",
      "\u001b[0;31mInvalidTitle\u001b[0m                              Traceback (most recent call last)",
      "\u001b[0;32m<ipython-input-28-819c8075afc3>\u001b[0m in \u001b[0;36m<module>\u001b[0;34m\u001b[0m\n\u001b[1;32m      1\u001b[0m \u001b[0mpage\u001b[0m \u001b[0;34m=\u001b[0m \u001b[0mpywikibot\u001b[0m\u001b[0;34m.\u001b[0m\u001b[0mPage\u001b[0m\u001b[0;34m(\u001b[0m\u001b[0msite\u001b[0m\u001b[0;34m,\u001b[0m \u001b[0mtitle\u001b[0m\u001b[0;34m=\u001b[0m\u001b[0mfield\u001b[0m\u001b[0;34m)\u001b[0m\u001b[0;34m\u001b[0m\u001b[0;34m\u001b[0m\u001b[0m\n\u001b[0;32m----> 2\u001b[0;31m \u001b[0mitem\u001b[0m \u001b[0;34m=\u001b[0m \u001b[0mpywikibot\u001b[0m\u001b[0;34m.\u001b[0m\u001b[0mItemPage\u001b[0m\u001b[0;34m.\u001b[0m\u001b[0mfromPage\u001b[0m\u001b[0;34m(\u001b[0m\u001b[0mpage\u001b[0m\u001b[0;34m)\u001b[0m\u001b[0;34m\u001b[0m\u001b[0;34m\u001b[0m\u001b[0m\n\u001b[0m\u001b[1;32m      3\u001b[0m \u001b[0;34m\u001b[0m\u001b[0m\n\u001b[1;32m      4\u001b[0m \u001b[0mprint\u001b[0m\u001b[0;34m(\u001b[0m\u001b[0mitem\u001b[0m\u001b[0;34m)\u001b[0m\u001b[0;34m\u001b[0m\u001b[0;34m\u001b[0m\u001b[0m\n",
      "\u001b[0;32m/srv/paws/pwb/pywikibot/page/__init__.py\u001b[0m in \u001b[0;36mfromPage\u001b[0;34m(cls, page, lazy_load)\u001b[0m\n\u001b[1;32m   3903\u001b[0m         \u001b[0;32mif\u001b[0m \u001b[0mhasattr\u001b[0m\u001b[0;34m(\u001b[0m\u001b[0mpage\u001b[0m\u001b[0;34m,\u001b[0m \u001b[0;34m'_item'\u001b[0m\u001b[0;34m)\u001b[0m\u001b[0;34m:\u001b[0m\u001b[0;34m\u001b[0m\u001b[0;34m\u001b[0m\u001b[0m\n\u001b[1;32m   3904\u001b[0m             \u001b[0;32mreturn\u001b[0m \u001b[0mpage\u001b[0m\u001b[0;34m.\u001b[0m\u001b[0m_item\u001b[0m\u001b[0;34m\u001b[0m\u001b[0;34m\u001b[0m\u001b[0m\n\u001b[0;32m-> 3905\u001b[0;31m         \u001b[0;32mif\u001b[0m \u001b[0;32mnot\u001b[0m \u001b[0mpage\u001b[0m\u001b[0;34m.\u001b[0m\u001b[0msite\u001b[0m\u001b[0;34m.\u001b[0m\u001b[0mhas_data_repository\u001b[0m\u001b[0;34m:\u001b[0m\u001b[0;34m\u001b[0m\u001b[0;34m\u001b[0m\u001b[0m\n\u001b[0m\u001b[1;32m   3906\u001b[0m             raise pywikibot.WikiBaseError('{} has no data repository'\n\u001b[1;32m   3907\u001b[0m                                           .format(page.site))\n",
      "\u001b[0;32m/srv/paws/pwb/pywikibot/page/__init__.py\u001b[0m in \u001b[0;36msite\u001b[0;34m(self)\u001b[0m\n\u001b[1;32m    180\u001b[0m         \u001b[0;34m@\u001b[0m\u001b[0mrtype\u001b[0m\u001b[0;34m:\u001b[0m \u001b[0mpywikibot\u001b[0m\u001b[0;34m.\u001b[0m\u001b[0mSite\u001b[0m\u001b[0;34m\u001b[0m\u001b[0;34m\u001b[0m\u001b[0m\n\u001b[1;32m    181\u001b[0m         \"\"\"\n\u001b[0;32m--> 182\u001b[0;31m         \u001b[0;32mreturn\u001b[0m \u001b[0mself\u001b[0m\u001b[0;34m.\u001b[0m\u001b[0m_link\u001b[0m\u001b[0;34m.\u001b[0m\u001b[0msite\u001b[0m\u001b[0;34m\u001b[0m\u001b[0;34m\u001b[0m\u001b[0m\n\u001b[0m\u001b[1;32m    183\u001b[0m \u001b[0;34m\u001b[0m\u001b[0m\n\u001b[1;32m    184\u001b[0m     \u001b[0;32mdef\u001b[0m \u001b[0mversion\u001b[0m\u001b[0;34m(\u001b[0m\u001b[0mself\u001b[0m\u001b[0;34m)\u001b[0m\u001b[0;34m:\u001b[0m\u001b[0;34m\u001b[0m\u001b[0;34m\u001b[0m\u001b[0m\n",
      "\u001b[0;32m/srv/paws/pwb/pywikibot/page/__init__.py\u001b[0m in \u001b[0;36msite\u001b[0;34m(self)\u001b[0m\n\u001b[1;32m   5375\u001b[0m         \"\"\"\n\u001b[1;32m   5376\u001b[0m         \u001b[0;32mif\u001b[0m \u001b[0;32mnot\u001b[0m \u001b[0mhasattr\u001b[0m\u001b[0;34m(\u001b[0m\u001b[0mself\u001b[0m\u001b[0;34m,\u001b[0m \u001b[0;34m'_site'\u001b[0m\u001b[0;34m)\u001b[0m\u001b[0;34m:\u001b[0m\u001b[0;34m\u001b[0m\u001b[0;34m\u001b[0m\u001b[0m\n\u001b[0;32m-> 5377\u001b[0;31m             \u001b[0mself\u001b[0m\u001b[0;34m.\u001b[0m\u001b[0mparse\u001b[0m\u001b[0;34m(\u001b[0m\u001b[0;34m)\u001b[0m\u001b[0;34m\u001b[0m\u001b[0;34m\u001b[0m\u001b[0m\n\u001b[0m\u001b[1;32m   5378\u001b[0m         \u001b[0;32mreturn\u001b[0m \u001b[0mself\u001b[0m\u001b[0;34m.\u001b[0m\u001b[0m_site\u001b[0m\u001b[0;34m\u001b[0m\u001b[0;34m\u001b[0m\u001b[0m\n\u001b[1;32m   5379\u001b[0m \u001b[0;34m\u001b[0m\u001b[0m\n",
      "\u001b[0;32m/srv/paws/pwb/pywikibot/page/__init__.py\u001b[0m in \u001b[0;36mparse\u001b[0;34m(self)\u001b[0m\n\u001b[1;32m   5332\u001b[0m         \u001b[0;32mif\u001b[0m \u001b[0mm\u001b[0m\u001b[0;34m:\u001b[0m\u001b[0;34m\u001b[0m\u001b[0;34m\u001b[0m\u001b[0m\n\u001b[1;32m   5333\u001b[0m             raise pywikibot.InvalidTitle(\n\u001b[0;32m-> 5334\u001b[0;31m                 '%r contains illegal char(s) %r' % (t, m.group(0)))\n\u001b[0m\u001b[1;32m   5335\u001b[0m \u001b[0;34m\u001b[0m\u001b[0m\n\u001b[1;32m   5336\u001b[0m         \u001b[0;31m# Pages with \"/./\" or \"/../\" appearing in the URLs will\u001b[0m\u001b[0;34m\u001b[0m\u001b[0;34m\u001b[0m\u001b[0;34m\u001b[0m\u001b[0m\n",
      "\u001b[0;31mInvalidTitle\u001b[0m: '[[Bruce Farr]]' contains illegal char(s) '['"
     ]
    }
   ],
   "source": [
    "page = pywikibot.Page(site, field)\n",
    "item = pywikibot.ItemPage.fromPage(page)\n",
    "\n",
    "print(item)"
   ]
  },
  {
   "cell_type": "code",
   "execution_count": null,
   "metadata": {},
   "outputs": [],
   "source": []
  }
 ],
 "metadata": {
  "kernelspec": {
   "display_name": "Python 3",
   "language": "python",
   "name": "python3"
  },
  "language_info": {
   "codemirror_mode": {
    "name": "ipython",
    "version": 3
   },
   "file_extension": ".py",
   "mimetype": "text/x-python",
   "name": "python",
   "nbconvert_exporter": "python",
   "pygments_lexer": "ipython3",
   "version": "3.6.9"
  }
 },
 "nbformat": 4,
 "nbformat_minor": 4
}
